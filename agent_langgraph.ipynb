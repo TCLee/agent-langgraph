{
 "cells": [
  {
   "cell_type": "markdown",
   "id": "998d81ab-0db2-4aa4-9af2-8fcf0691ed06",
   "metadata": {},
   "source": [
    "# Build an agent with LangGraph\n",
    "\n",
    "By themselves, LLMs cannot take **actions** - they just output text. Agents are systems that use LLMs as reasoning engines to determine which actions to take and the inputs to pass them. After executing actions, the results can be fed back into the LLM to determine whether more actions are needed, or whether it is okay to finish.\n",
    "\n",
    "In this notebook, we will build an agent in LangGraph that can:\n",
    "\n",
    "- Answer common questions by searching the web\n",
    "- Maintain conversation state across calls\n",
    "- Route complex queries to a human for review\n",
    "- Use custom state to control its behavior\n",
    "- Rewind and explore alternative conversation paths\n",
    "\n",
    "We'll start with a basic chatbot and progressively add more sophisticated capabilities, introducing key LangGraph concepts along the way.\n",
    "\n",
    "> The code in this notebook is adapted from [Introduction to LangGraph](https://langchain-ai.github.io/langgraph/tutorials/introduction/).\n",
    "\n",
    "\n",
    "## Setup\n",
    "\n",
    "Before we begin, please make sure you have setup the `.env` file in the project \n",
    "directory as described in [`README.md`](README.md).\n",
    "\n",
    "Next, we will load in the necessary environment variables for this notebook:"
   ]
  },
  {
   "cell_type": "code",
   "execution_count": 2,
   "id": "07cbaacb-305b-49b5-b76c-cfc25b14909b",
   "metadata": {},
   "outputs": [],
   "source": [
    "import os\n",
    "from dotenv import load_dotenv\n",
    "\n",
    "_ = load_dotenv()\n",
    "\n",
    "assert os.environ.get(\"GOOGLE_API_KEY\")\n",
    "assert os.environ.get(\"TAVILY_API_KEY\")"
   ]
  },
  {
   "cell_type": "markdown",
   "id": "a889265b-6924-43e3-b348-106b209a9fe4",
   "metadata": {},
   "source": [
    "## Part 1: Build a Basic Chatbot\n",
    "\n",
    "We'll first create a simple chatbot using LangGraph. This chatbot will respond directly to user messages. Though simple, it will illustrate the core concepts of building with LangGraph. By the end of this section, we will have a built rudimentary chatbot.\n",
    "\n",
    "Start by creating a `StateGraph`. A `StateGraph` object defines the structure of our chatbot as a \"state machine\". We'll add `nodes` to represent the llm and functions our chatbot can call and `edges` to specify how the bot should transition between these functions."
   ]
  },
  {
   "cell_type": "code",
   "execution_count": 2,
   "id": "d6676198-cead-467a-916e-1aee13a602c0",
   "metadata": {},
   "outputs": [],
   "source": [
    "from typing import Annotated\n",
    "\n",
    "from typing_extensions import TypedDict\n",
    "\n",
    "from langgraph.graph import StateGraph\n",
    "from langgraph.graph.message import add_messages\n",
    "\n",
    "\n",
    "class State(TypedDict):\n",
    "    # Messages have the type \"list\". The `add_messages` function\n",
    "    # in the annotation defines how this state key should be updated\n",
    "    # (in this case, it appends messages to the list, rather than overwriting them)\n",
    "    messages: Annotated[list, add_messages]\n",
    "\n",
    "\n",
    "graph_builder = StateGraph(State)"
   ]
  },
  {
   "cell_type": "markdown",
   "id": "f816b48b-1444-4a1c-93e2-460c8cf792ea",
   "metadata": {},
   "source": [
    "**Notice** that we've defined our `State` as a TypedDict with a single key: `messages`. The `messages` key is annotated with the [`add_messages`](https://langchain-ai.github.io/langgraph/reference/graphs/?h=add+messages#add_messages) function, which tells LangGraph to append new messages to the existing list, rather than overwriting it.\n",
    "\n",
    "So now our graph knows two things:\n",
    "\n",
    "1. Every `node` we define will receive the current `State` as input and return a value that updates that state.\n",
    "2. `messages` will be _appended_ to the current list, rather than directly overwritten. This is communicated via the prebuilt [`add_messages`](https://langchain-ai.github.io/langgraph/reference/graphs/?h=add+messages#add_messages) function in the `Annotated` syntax.\n",
    "\n",
    "Next, add a \"`chatbot`\" node. Nodes represent units of work. They are typically regular Python functions."
   ]
  },
  {
   "cell_type": "code",
   "execution_count": 3,
   "id": "01038f5c-e268-4518-83a1-0f6cf7d85383",
   "metadata": {},
   "outputs": [],
   "source": [
    "from langchain_google_genai import ChatGoogleGenerativeAI\n",
    "\n",
    "llm = ChatGoogleGenerativeAI(model=\"gemini-1.5-flash\")\n",
    "\n",
    "\n",
    "def chatbot(state: State):\n",
    "    return {\"messages\": [llm.invoke(state[\"messages\"])]}\n",
    "\n",
    "\n",
    "# The first argument is the unique node name\n",
    "# The second argument is the function or object that will be called whenever\n",
    "# the node is used.\n",
    "graph_builder.add_node(\"chatbot\", chatbot)"
   ]
  },
  {
   "cell_type": "markdown",
   "id": "b74563a4-7298-4a67-9e5c-50113fdfbfe6",
   "metadata": {},
   "source": [
    "**Notice** how the `chatbot` node function takes the current `State` as input and returns an updated `messages` list. This is the basic pattern for all LangGraph node functions.\n",
    "\n",
    "The `add_messages` function in our `State` will append the llm's response messages to whatever messages are already in the state.\n",
    "\n",
    "Next, add an `entry` point. This tells our graph **where to start its work** each time we run it."
   ]
  },
  {
   "cell_type": "code",
   "execution_count": 4,
   "id": "13016c0f-54e8-406f-a073-bf8d66722f7b",
   "metadata": {},
   "outputs": [],
   "source": [
    "graph_builder.set_entry_point(\"chatbot\")"
   ]
  },
  {
   "cell_type": "markdown",
   "id": "3c77e29c-d1c3-4e0d-abdb-7103b3b08331",
   "metadata": {},
   "source": [
    "Similarly, set a `finish` point. This instructs the graph **\"any time this node is run, you can exit.\"**"
   ]
  },
  {
   "cell_type": "code",
   "execution_count": 5,
   "id": "2e9814f9-0c88-4b47-b0ac-c9601859177f",
   "metadata": {},
   "outputs": [],
   "source": [
    "graph_builder.set_finish_point(\"chatbot\")"
   ]
  },
  {
   "cell_type": "markdown",
   "id": "78ed0e39-bfac-49c4-a60f-d4e2b01c7b02",
   "metadata": {},
   "source": [
    "Finally, we'll want to be able to run our graph. To do so, call \"`compile()`\" on the graph builder. This creates a \"`CompiledGraph`\" we can use invoke on our state."
   ]
  },
  {
   "cell_type": "code",
   "execution_count": 6,
   "id": "e3ed7f37-0ce2-4cec-9822-312d620fd467",
   "metadata": {},
   "outputs": [],
   "source": [
    "graph = graph_builder.compile()"
   ]
  },
  {
   "cell_type": "markdown",
   "id": "3b1f1c6f-250d-464f-af77-1c705a77c9cc",
   "metadata": {},
   "source": [
    "You can visualize the graph using the `get_graph` method and one of the \"draw\" methods, like `draw_ascii` or `draw_png`. The `draw` methods each require additional dependencies."
   ]
  },
  {
   "cell_type": "code",
   "execution_count": 7,
   "id": "ef3abb8d-c960-49c3-aa87-11d58a5bd22e",
   "metadata": {},
   "outputs": [
    {
     "data": {
      "image/jpeg": "[encoded data removed]",
      "text/plain": [
       "<IPython.core.display.Image object>"
      ]
     },
     "metadata": {},
     "output_type": "display_data"
    }
   ],
   "source": [
    "from IPython.display import Image, display\n",
    "\n",
    "display(\n",
    "    Image(\n",
    "        graph.get_graph().draw_mermaid_png()\n",
    "    )\n",
    ")"
   ]
  },
  {
   "cell_type": "markdown",
   "id": "985f431d-3bff-4bc4-9361-f119b7de52de",
   "metadata": {},
   "source": [
    "Now let's run the chatbot! \n",
    "\n",
    "**Tip:** You can exit the chat loop at any time by typing \"quit\", \"exit\", or \"q\"."
   ]
  },
  {
   "cell_type": "code",
   "execution_count": 8,
   "id": "17768906-55ea-44ee-b655-49fd1632b384",
   "metadata": {},
   "outputs": [
    {
     "name": "stdin",
     "output_type": "stream",
     "text": [
      "User:  What is the weather in Kuala Lumpur?\n"
     ]
    },
    {
     "name": "stdout",
     "output_type": "stream",
     "text": [
      "Assistant: I do not have access to real-time information, including weather. To get the current weather in Kuala Lumpur, I recommend checking a reliable weather website or app. \n",
      "\n",
      "Here are some popular options:\n",
      "\n",
      "* **AccuWeather:** [https://www.accuweather.com/](https://www.accuweather.com/)\n",
      "* **The Weather Channel:** [https://weather.com/](https://weather.com/)\n",
      "* **Weather Underground:** [https://www.wunderground.com/](https://www.wunderground.com/)\n",
      "* **Google Weather:** [https://www.google.com/search?q=weather+kuala+lumpur](https://www.google.com/search?q=weather+kuala+lumpur) \n",
      "\n"
     ]
    },
    {
     "name": "stdin",
     "output_type": "stream",
     "text": [
      "User:  exit\n"
     ]
    },
    {
     "name": "stdout",
     "output_type": "stream",
     "text": [
      "Goodbye!\n"
     ]
    }
   ],
   "source": [
    "while True:    \n",
    "    \n",
    "    user_input = input(\"User: \")\n",
    "    if user_input.lower() in [\"quit\", \"exit\", \"q\"]:\n",
    "        print(\"Goodbye!\")\n",
    "        break\n",
    "        \n",
    "    for event in graph.stream({\"messages\": (\"user\", user_input)}):\n",
    "        for value in event.values():\n",
    "            print(\"Assistant:\", value[\"messages\"][-1].content)"
   ]
  },
  {
   "cell_type": "markdown",
   "id": "f4ce29aa-a076-45a1-9ac3-5750ff6cfbcd",
   "metadata": {},
   "source": [
    "**Congratulations!** We've built our first chatbot using LangGraph. This bot can engage in basic conversation by taking user input and generating responses using an LLM.\n",
    "\n",
    "However, the bot's knowledge is limited to what's in its training data. In the next part, we'll add a web search tool to expand the chatbot's knowledge and make it more capable.\n",
    "\n",
    "Below is the full code for this section:"
   ]
  },
  {
   "cell_type": "code",
   "execution_count": 9,
   "id": "8b3427db-8763-47f3-9600-87a8763ede12",
   "metadata": {},
   "outputs": [],
   "source": [
    "from typing import Annotated\n",
    "\n",
    "from langchain_google_genai import ChatGoogleGenerativeAI\n",
    "\n",
    "from typing_extensions import TypedDict\n",
    "\n",
    "from langgraph.graph import StateGraph\n",
    "from langgraph.graph.message import add_messages\n",
    "\n",
    "\n",
    "class State(TypedDict):\n",
    "    messages: Annotated[list, add_messages]\n",
    "\n",
    "\n",
    "graph_builder = StateGraph(State)\n",
    "\n",
    "\n",
    "llm = ChatGoogleGenerativeAI(model=\"gemini-1.5-flash\")\n",
    "\n",
    "\n",
    "def chatbot(state: State):\n",
    "    return {\"messages\": [llm.invoke(state[\"messages\"])]}\n",
    "\n",
    "\n",
    "# The first argument is the unique node name\n",
    "# The second argument is the function or object that will be \n",
    "# called whenever the node is used.\n",
    "graph_builder.add_node(\"chatbot\", chatbot)\n",
    "graph_builder.set_entry_point(\"chatbot\")\n",
    "graph_builder.set_finish_point(\"chatbot\")\n",
    "\n",
    "graph = graph_builder.compile()"
   ]
  },
  {
   "cell_type": "markdown",
   "id": "fb1a0962-410a-4171-b995-7c5076f1990f",
   "metadata": {},
   "source": [
    "## Part 2: Enhancing the Chatbot with Tools\n",
    "\n",
    "To handle queries our chatbot can't answer \"from memory\", we'll integrate a web search tool [Tavily Search API](https://tavily.com/). Our chatbot can use this tool to find relevant information and provide better responses.\n",
    "\n",
    "See also: [LangChain tools - Tavily Search](https://python.langchain.com/v0.2/docs/integrations/tools/tavily_search/)"
   ]
  },
  {
   "cell_type": "code",
   "execution_count": 10,
   "id": "25e7bb7e-5128-42b1-ac42-c61bde14f52d",
   "metadata": {
    "editable": true,
    "slideshow": {
     "slide_type": ""
    },
    "tags": []
   },
   "outputs": [
    {
     "data": {
      "text/plain": [
       "[{'url': 'https://www.meteoprog.com/weather/Kualalumpur/month/june/',\n",
       "  'content': 'Kuala Lumpur (Malaysia) weather in June 2024 ☀️ Accurate weather forecast for Kuala Lumpur in June ⛅ Detailed forecast By month Current temperature \"near me\" Weather news ⊳ Widget of weather ⊳ Water temperature | METEOPROG. Meteoprog.com. ... 25 June +32 °+24° 26 June +32° ...'},\n",
       " {'url': 'https://www.weatherapi.com/',\n",
       "  'content': \"{'location': {'name': 'Kuala Lumpur', 'region': 'Kuala Lumpur', 'country': 'Malaysia', 'lat': 3.17, 'lon': 101.7, 'tz_id': 'Asia/Kuala_Lumpur', 'localtime_epoch': 1719286876, 'localtime': '2024-06-25 11:41'}, 'current': {'last_updated_epoch': 1719286200, 'last_updated': '2024-06-25 11:30', 'temp_c': 30.0, 'temp_f': 86.1, 'is_day': 1, 'condition': {'text': 'Sunny', 'icon': '//cdn.weatherapi.com/weather/64x64/day/113.png', 'code': 1000}, 'wind_mph': 2.9, 'wind_kph': 4.7, 'wind_degree': 172, 'wind_dir': 'S', 'pressure_mb': 1009.0, 'pressure_in': 29.8, 'precip_mm': 0.0, 'precip_in': 0.0, 'humidity': 62, 'cloud': 23, 'feelslike_c': 33.6, 'feelslike_f': 92.4, 'windchill_c': 30.1, 'windchill_f': 86.1, 'heatindex_c': 33.6, 'heatindex_f': 92.4, 'dewpoint_c': 22.0, 'dewpoint_f': 71.7, 'vis_km': 10.0, 'vis_miles': 6.0, 'uv': 8.0, 'gust_mph': 3.4, 'gust_kph': 5.4}}\"}]"
      ]
     },
     "execution_count": 10,
     "metadata": {},
     "output_type": "execute_result"
    }
   ],
   "source": [
    "from langchain_community.tools.tavily_search import TavilySearchResults\n",
    "\n",
    "tool = TavilySearchResults(max_results=2)\n",
    "tool.invoke(\"What is the weather in Kuala Lumpur?\")"
   ]
  },
  {
   "cell_type": "markdown",
   "id": "d9ec8067-09ae-4803-b219-db629dcb48b2",
   "metadata": {},
   "source": [
    "The results are page summaries our chat bot can use to answer questions.\n",
    "\n",
    "Next, we'll start defining our graph. The following is all **the same as in Part 1**, except we have added `bind_tools` on our LLM. This lets the LLM know the correct JSON format to use if it wants to use our search engine."
   ]
  },
  {
   "cell_type": "code",
   "execution_count": 11,
   "id": "72e44aef-3a5a-464b-a23e-c8957bdb9a14",
   "metadata": {},
   "outputs": [],
   "source": [
    "from typing import Annotated\n",
    "\n",
    "from langchain_google_genai import ChatGoogleGenerativeAI\n",
    "from typing_extensions import TypedDict\n",
    "\n",
    "from langgraph.graph import StateGraph\n",
    "from langgraph.graph.message import add_messages\n",
    "\n",
    "\n",
    "class State(TypedDict):\n",
    "    messages: Annotated[list, add_messages]\n",
    "\n",
    "\n",
    "graph_builder = StateGraph(State)\n",
    "\n",
    "\n",
    "llm = ChatGoogleGenerativeAI(model=\"gemini-1.5-flash\")\n",
    "\n",
    "# Modification: tell the LLM which tools it can call\n",
    "tools = [tool]\n",
    "llm_with_tools = llm.bind_tools(tools)\n",
    "\n",
    "\n",
    "def chatbot(state: State):\n",
    "    return {\"messages\": [llm_with_tools.invoke(state[\"messages\"])]}\n",
    "\n",
    "\n",
    "graph_builder.add_node(\"chatbot\", chatbot)"
   ]
  },
  {
   "cell_type": "markdown",
   "id": "d68ecd1f-3c3a-4e23-a952-d0776fc93f55",
   "metadata": {},
   "source": [
    "Next we need to create a function to actually run the tools if they are called. We'll do this by adding the tools to a new node.\n",
    "\n",
    "Below, implement a `BasicToolNode` class that checks the most recent message in the state and calls tools if the message contains `tool_calls`. It relies on the LLM's `tool_calling` support, which is available in Anthropic, OpenAI, Google Gemini, and a number of other LLM providers.\n",
    "\n",
    "Later, we will replace this with LangGraph's prebuilt [ToolNode](https://langchain-ai.github.io/langgraph/reference/prebuilt/#toolnode) to speed things up, but building it ourselves first is helpful to see what is going on under the hood."
   ]
  },
  {
   "cell_type": "code",
   "execution_count": 12,
   "id": "6e769b9e-c9cc-411f-8d80-902ab67d6b02",
   "metadata": {},
   "outputs": [],
   "source": [
    "import json\n",
    "from langchain_core.messages import ToolMessage\n",
    "\n",
    "\n",
    "class BasicToolNode:\n",
    "    \"\"\"A node that runs the tools requested in the last AIMessage.\"\"\"\n",
    "\n",
    "    def __init__(self, tools: list) -> None:\n",
    "        self.tools_by_name = {tool.name: tool for tool in tools}\n",
    "\n",
    "    def __call__(self, inputs: dict):        \n",
    "        if messages := inputs.get(\"messages\", []):\n",
    "            message = messages[-1]\n",
    "        else:\n",
    "            raise ValueError(\"No message found in input\")\n",
    "            \n",
    "        outputs = []\n",
    "        \n",
    "        for tool_call in message.tool_calls:\n",
    "            tool_name = tool_call[\"name\"]\n",
    "            tool = self.tools_by_name[tool_name]\n",
    "            tool_args = tool_call[\"args\"]\n",
    "            tool_result = tool.invoke(tool_args)\n",
    "                        \n",
    "            outputs.append(\n",
    "                ToolMessage(\n",
    "                    content=json.dumps(tool_result),\n",
    "                    name=tool_name,\n",
    "                    tool_call_id=tool_call[\"id\"],\n",
    "                )\n",
    "            )\n",
    "            \n",
    "        return {\"messages\": outputs}\n"
   ]
  },
  {
   "cell_type": "code",
   "execution_count": 13,
   "id": "6b3fb334-5b6f-41c1-a971-8669350c5243",
   "metadata": {},
   "outputs": [],
   "source": [
    "tool_node = BasicToolNode(tools=[tool])\n",
    "graph_builder.add_node(\"tools\", tool_node)"
   ]
  },
  {
   "cell_type": "markdown",
   "id": "90ae5849-7429-452d-b3ac-c7935d00298e",
   "metadata": {},
   "source": [
    "With the tool node added, we can define the `conditional_edges`. \n",
    "\n",
    "Recall that **edges** route the control flow from one node to the next. **Conditional edges** usually contain \"if\" statements to route to different nodes depending on the current graph state. These functions receive the current graph `state` and return a string or list of strings indicating which node(s) to call next.\n",
    "\n",
    "Below, call define a router function called `route_tools`, that checks for tool_calls in the chatbot's output. Provide this function to the graph by calling `add_conditional_edges`, which tells the graph that whenever the `chatbot` node completes to check this function to see where to go next. \n",
    "\n",
    "The condition will route to `tools` if tool calls are present and \"`__end__`\" if not.\n",
    "\n",
    "Later, we will replace this with the prebuilt [tools_condition](https://langchain-ai.github.io/langgraph/reference/prebuilt/#tools_condition) to be more concise, but implementing it ourselves first makes things more clear. "
   ]
  },
  {
   "cell_type": "code",
   "execution_count": 17,
   "id": "6e3eaf97-57f7-42d1-b69d-8a03055644b5",
   "metadata": {},
   "outputs": [],
   "source": [
    "from typing import Literal\n",
    "\n",
    "\n",
    "def route_tools(\n",
    "    state: State,\n",
    ") -> Literal[\"tools\", \"__end__\"]:\n",
    "    \"\"\"\n",
    "    Use in the conditional_edge to route to the ToolNode if the last message\n",
    "    has tool calls. Otherwise, route to the end.\n",
    "    \"\"\"\n",
    "    if isinstance(state, list):\n",
    "        ai_message = state[-1]\n",
    "    elif messages := state.get(\"messages\", []):\n",
    "        ai_message = messages[-1]\n",
    "    else:\n",
    "        raise ValueError(f\"No messages found in input state to tool_edge: {state}\")\n",
    "        \n",
    "    if (hasattr(ai_message, \"tool_calls\") and \n",
    "        len(ai_message.tool_calls) > 0):        \n",
    "        return \"tools\"        \n",
    "    return \"__end__\"\n"
   ]
  },
  {
   "cell_type": "code",
   "execution_count": 18,
   "id": "2580a5a8-66f3-4ea8-bc37-b7297d51b78f",
   "metadata": {},
   "outputs": [],
   "source": [
    "# The `route_tools` function returns \"tools\" if the chatbot asks to use a tool, and \"__end__\" if\n",
    "# it is fine directly responding. This conditional routing defines the main agent loop.\n",
    "graph_builder.add_conditional_edges(\n",
    "    \"chatbot\",\n",
    "    route_tools,\n",
    "    \n",
    "    # The following dictionary lets you tell the graph to interpret \n",
    "    # the condition's outputs as a specific node.\n",
    "    # It defaults to the identity function, but if you\n",
    "    # want to use a node named something else apart from \"tools\",\n",
    "    # You can update the value of the dictionary to something else\n",
    "    # e.g., \"tools\": \"my_tools\"\n",
    "    {\n",
    "        \"tools\": \"tools\", \n",
    "        \"__end__\": \"__end__\"\n",
    "    },\n",
    ")\n",
    "\n",
    "# Any time a tool is called, we return to the chatbot to decide the next step\n",
    "graph_builder.add_edge(\"tools\", \"chatbot\")\n",
    "graph_builder.set_entry_point(\"chatbot\")"
   ]
  },
  {
   "cell_type": "code",
   "execution_count": 19,
   "id": "3021d4f4-59b2-4939-827a-fa23c18870c5",
   "metadata": {},
   "outputs": [],
   "source": [
    "graph = graph_builder.compile()"
   ]
  },
  {
   "cell_type": "markdown",
   "id": "3f7144cb-3cd3-48b5-bdb5-26ec73d9b02e",
   "metadata": {},
   "source": [
    "**Notice** that conditional edges start from a single node. This tells the graph \"any time the '`chatbot`' node runs, either go to 'tools' if it calls a tool, or end the loop if it responds directly. \n",
    "\n",
    "Like the prebuilt `tools_condition`, our function returns the \"`__end__`\" string if no tool calls are made. When the graph transitions to `__end__`, it has no more tasks to complete and ceases execution. Because the condition can return `__end__`, we don't need to explicitly set a `finish_point` this time. Our graph already has a way to finish!\n",
    "\n",
    "Let's visualize the graph we've built."
   ]
  },
  {
   "cell_type": "code",
   "execution_count": 20,
   "id": "e5014b29-a4f0-4e3d-a82c-b5b1c1fff1bf",
   "metadata": {},
   "outputs": [
    {
     "data": {
      "image/jpeg": "[encoded data removed]",
      "text/plain": [
       "<IPython.core.display.Image object>"
      ]
     },
     "metadata": {},
     "output_type": "display_data"
    }
   ],
   "source": [
    "from IPython.display import Image, display\n",
    "\n",
    "display(Image(graph.get_graph().draw_mermaid_png()))"
   ]
  },
  {
   "cell_type": "markdown",
   "id": "845d0f44-4b9f-464d-807b-282ed0e8dd80",
   "metadata": {},
   "source": [
    "Now we can ask the bot questions outside its training data."
   ]
  },
  {
   "cell_type": "code",
   "execution_count": 21,
   "id": "9a83253d-0ce1-4bf5-9e62-c0e0c8d7d4f2",
   "metadata": {},
   "outputs": [
    {
     "name": "stdin",
     "output_type": "stream",
     "text": [
      "User:  What is the weather in Kuala Lumpur?\n"
     ]
    },
    {
     "name": "stdout",
     "output_type": "stream",
     "text": [
      "Assistant: \n",
      "Assistant: [{\"url\": \"https://www.meteoprog.com/weather/Kualalumpur/month/june/\", \"content\": \"Kuala Lumpur (Malaysia) weather in June 2024 \\u2600\\ufe0f Accurate weather forecast for Kuala Lumpur in June \\u26c5 Detailed forecast By month Current temperature \\\"near me\\\" Weather news \\u22b3 Widget of weather \\u22b3 Water temperature | METEOPROG ... 25 June +32 \\u00b0+24\\u00b0 26 June +32\\u00b0 ...\"}, {\"url\": \"https://www.weatherapi.com/\", \"content\": \"{'location': {'name': 'Kuala Lumpur', 'region': 'Kuala Lumpur', 'country': 'Malaysia', 'lat': 3.17, 'lon': 101.7, 'tz_id': 'Asia/Kuala_Lumpur', 'localtime_epoch': 1719287567, 'localtime': '2024-06-25 11:52'}, 'current': {'last_updated_epoch': 1719287100, 'last_updated': '2024-06-25 11:45', 'temp_c': 30.0, 'temp_f': 86.1, 'is_day': 1, 'condition': {'text': 'Sunny', 'icon': '//cdn.weatherapi.com/weather/64x64/day/113.png', 'code': 1000}, 'wind_mph': 2.9, 'wind_kph': 4.7, 'wind_degree': 172, 'wind_dir': 'S', 'pressure_mb': 1009.0, 'pressure_in': 29.8, 'precip_mm': 0.0, 'precip_in': 0.0, 'humidity': 62, 'cloud': 23, 'feelslike_c': 33.6, 'feelslike_f': 92.4, 'windchill_c': 30.1, 'windchill_f': 86.1, 'heatindex_c': 33.6, 'heatindex_f': 92.4, 'dewpoint_c': 22.0, 'dewpoint_f': 71.7, 'vis_km': 10.0, 'vis_miles': 6.0, 'uv': 8.0, 'gust_mph': 3.4, 'gust_kph': 5.4}}\"}]\n",
      "Assistant: The weather in Kuala Lumpur is currently Sunny with a temperature of 30.0 degrees Celsius. It feels like 33.6 degrees Celsius. \n",
      "\n"
     ]
    },
    {
     "name": "stdin",
     "output_type": "stream",
     "text": [
      "User:  Will it rain there today?\n"
     ]
    },
    {
     "name": "stdout",
     "output_type": "stream",
     "text": [
      "Assistant: I am sorry, I cannot fulfill this request. The available tools lack the functionality to provide weather information. \n",
      "\n"
     ]
    },
    {
     "name": "stdin",
     "output_type": "stream",
     "text": [
      "User:  exit\n"
     ]
    },
    {
     "name": "stdout",
     "output_type": "stream",
     "text": [
      "Goodbye!\n"
     ]
    }
   ],
   "source": [
    "from langchain_core.messages import BaseMessage\n",
    "\n",
    "while True:\n",
    "    user_input = input(\"User: \")\n",
    "    \n",
    "    if user_input.lower() in [\"quit\", \"exit\", \"q\"]:\n",
    "        print(\"Goodbye!\")\n",
    "        break\n",
    "        \n",
    "    for event in graph.stream(\n",
    "        {\n",
    "            \"messages\": [(\"user\", user_input)]\n",
    "        }\n",
    "    ):\n",
    "        for value in event.values():\n",
    "            if isinstance(value[\"messages\"][-1], BaseMessage):\n",
    "                print(\"Assistant:\", value[\"messages\"][-1].content)"
   ]
  },
  {
   "cell_type": "markdown",
   "id": "50484a45-4332-46bf-854c-c6bb9391451b",
   "metadata": {},
   "source": [
    "**Congrats!** We've created a conversational agent in LangGraph that can use a search engine to retrieve updated information when needed. Now it can handle a wider range of user queries.\n",
    "\n",
    "Our chatbot still can't remember past interactions on its own, limiting its ability to have coherent, multi-turn conversations. In the next part, we'll add **memory** to address this.\n",
    "\n",
    "The full code for the graph we've created in this section is reproduced below, replacing our `BasicToolNode` for the prebuilt [ToolNode](https://langchain-ai.github.io/langgraph/reference/prebuilt/#toolnode), and our `route_tools` condition with the prebuilt [tools_condition](https://langchain-ai.github.io/langgraph/reference/prebuilt/#tools_condition)"
   ]
  },
  {
   "cell_type": "code",
   "execution_count": 22,
   "id": "0480e130-b1e1-4740-bfce-5bafb5361acf",
   "metadata": {},
   "outputs": [],
   "source": [
    "from typing import Annotated\n",
    "\n",
    "from langchain_google_genai import ChatGoogleGenerativeAI\n",
    "from langchain_community.tools.tavily_search import TavilySearchResults\n",
    "from langchain_core.messages import BaseMessage\n",
    "from typing_extensions import TypedDict\n",
    "\n",
    "from langgraph.graph import StateGraph\n",
    "from langgraph.graph.message import add_messages\n",
    "from langgraph.prebuilt import ToolNode, tools_condition\n",
    "\n",
    "\n",
    "class State(TypedDict):\n",
    "    messages: Annotated[list, add_messages]\n",
    "\n",
    "\n",
    "graph_builder = StateGraph(State)\n",
    "\n",
    "\n",
    "tool = TavilySearchResults(max_results=2)\n",
    "tools = [tool]\n",
    "\n",
    "llm = ChatGoogleGenerativeAI(model=\"gemini-1.5-flash\")\n",
    "llm_with_tools = llm.bind_tools(tools)\n",
    "\n",
    "\n",
    "def chatbot(state: State):\n",
    "    return {\"messages\": [llm_with_tools.invoke(state[\"messages\"])]}\n",
    "\n",
    "\n",
    "graph_builder.add_node(\"chatbot\", chatbot)\n",
    "\n",
    "tool_node = ToolNode(tools=[tool])\n",
    "graph_builder.add_node(\"tools\", tool_node)\n",
    "\n",
    "graph_builder.add_conditional_edges(\n",
    "    \"chatbot\",\n",
    "    tools_condition,\n",
    ")\n",
    "\n",
    "# Any time a tool is called, we return to the chatbot to decide the next step\n",
    "graph_builder.add_edge(\"tools\", \"chatbot\")\n",
    "graph_builder.set_entry_point(\"chatbot\")\n",
    "\n",
    "graph = graph_builder.compile()"
   ]
  },
  {
   "cell_type": "markdown",
   "id": "090913ad-2415-4391-8b7f-001bd4093fa6",
   "metadata": {},
   "source": [
    "## Part 3: Adding Memory to the Chatbot\n",
    "\n",
    "Our chatbot can now use tools to answer user questions, but it doesn't remember the context of previous interactions. This limits its ability to have coherent, multi-turn conversations.\n",
    "\n",
    "LangGraph solves this problem through **persistent checkpointing**. If you provide a `checkpointer` when compiling the graph and a `thread_id` when calling your graph, LangGraph automatically saves the state after each step. When you invoke the graph again using the same `thread_id`, the graph loads its saved state, allowing the chatbot to pick up where it left off. \n",
    "\n",
    "To get started, create a `SqliteSaver` checkpointer:"
   ]
  },
  {
   "cell_type": "code",
   "execution_count": 23,
   "id": "54f375ed-fd6c-4bbb-8ecd-d74fd5672039",
   "metadata": {},
   "outputs": [],
   "source": [
    "from langgraph.checkpoint.sqlite import SqliteSaver\n",
    "\n",
    "memory = SqliteSaver.from_conn_string(\":memory:\")"
   ]
  },
  {
   "cell_type": "markdown",
   "id": "b49e328f-dc31-4282-b4fd-de3e3c98f4f3",
   "metadata": {},
   "source": [
    "**Notice** that we've specified `:memory` as the Sqlite DB path. This is convenient for our notebook (it saves it all in-memory). In a production application, you would likely change this to connect to your own DB and/or use one of the other checkpointer classes.\n",
    "\n",
    "Next define the graph. Now that you've already built your own `BasicToolNode`, we'll replace it with LangGraph's prebuilt `ToolNode` and `tools_condition`, since these do some nice things like parallel API execution. Apart from that, the following is all copied from Part 2."
   ]
  },
  {
   "cell_type": "code",
   "execution_count": 24,
   "id": "1390e94c-de54-49bf-b186-376046da4584",
   "metadata": {},
   "outputs": [],
   "source": [
    "from typing import Annotated\n",
    "\n",
    "from langchain_google_genai import ChatGoogleGenerativeAI\n",
    "from langchain_community.tools.tavily_search import TavilySearchResults\n",
    "from langchain_core.messages import BaseMessage\n",
    "from typing_extensions import TypedDict\n",
    "\n",
    "from langgraph.graph import StateGraph\n",
    "from langgraph.graph.message import add_messages\n",
    "from langgraph.prebuilt import ToolNode, tools_condition\n",
    "\n",
    "\n",
    "class State(TypedDict):\n",
    "    messages: Annotated[list, add_messages]\n",
    "\n",
    "\n",
    "graph_builder = StateGraph(State)\n",
    "\n",
    "\n",
    "tool = TavilySearchResults(max_results=2)\n",
    "tools = [tool]\n",
    "\n",
    "llm = ChatGoogleGenerativeAI(model=\"gemini-1.5-flash\")\n",
    "llm_with_tools = llm.bind_tools(tools)\n",
    "\n",
    "\n",
    "def chatbot(state: State):\n",
    "    return {\"messages\": [llm_with_tools.invoke(state[\"messages\"])]}\n",
    "\n",
    "\n",
    "graph_builder.add_node(\"chatbot\", chatbot)\n",
    "\n",
    "tool_node = ToolNode(tools=[tool])\n",
    "graph_builder.add_node(\"tools\", tool_node)\n",
    "\n",
    "graph_builder.add_conditional_edges(\n",
    "    \"chatbot\",\n",
    "    tools_condition,\n",
    ")\n",
    "\n",
    "# Any time a tool is called, we return to the chatbot to decide the next step\n",
    "graph_builder.add_edge(\"tools\", \"chatbot\")\n",
    "graph_builder.set_entry_point(\"chatbot\")"
   ]
  },
  {
   "cell_type": "markdown",
   "id": "fb64f826-d2fa-4f1f-a106-88ce25f8262c",
   "metadata": {},
   "source": [
    "Finally, compile the graph with the provided checkpointer."
   ]
  },
  {
   "cell_type": "code",
   "execution_count": 25,
   "id": "6f6b8ee2-d607-4b6d-9f22-b56f75c1e6dc",
   "metadata": {},
   "outputs": [],
   "source": [
    "graph = graph_builder.compile(checkpointer=memory)"
   ]
  },
  {
   "cell_type": "markdown",
   "id": "135ec2c6-5cb6-41e5-9229-395e63ae10c6",
   "metadata": {},
   "source": [
    "Notice the graph hasn't changed since Part 2. All we are doing is checkpointing the `State` as the graph works through each node."
   ]
  },
  {
   "cell_type": "code",
   "execution_count": 27,
   "id": "76937090-7179-4a12-ba9d-750aa5b56bbe",
   "metadata": {},
   "outputs": [
    {
     "data": {
      "image/jpeg": "[encoded data removed]",
      "text/plain": [
       "<IPython.core.display.Image object>"
      ]
     },
     "metadata": {},
     "output_type": "display_data"
    }
   ],
   "source": [
    "from IPython.display import Image, display\n",
    "\n",
    "display(\n",
    "    Image(\n",
    "        graph.get_graph().draw_mermaid_png()\n",
    "    )\n",
    ")"
   ]
  },
  {
   "cell_type": "markdown",
   "id": "bd81b92e-59f8-4846-95fe-2a7ee9db59c9",
   "metadata": {},
   "source": [
    "Now we can interact with our bot! First, pick a thread to use as the key for this conversation."
   ]
  },
  {
   "cell_type": "code",
   "execution_count": 28,
   "id": "bde5c345-b966-4501-a910-eaff73a4e023",
   "metadata": {},
   "outputs": [],
   "source": [
    "config = {\"configurable\": {\"thread_id\": \"1\"}}"
   ]
  },
  {
   "cell_type": "markdown",
   "id": "89c1b60b-60a1-424d-a0b4-00f8f76589c8",
   "metadata": {},
   "source": [
    "Next, call our chat bot."
   ]
  },
  {
   "cell_type": "code",
   "execution_count": 29,
   "id": "cd32759a-794b-4fee-a1b1-274a1b99a7e3",
   "metadata": {},
   "outputs": [
    {
     "name": "stdout",
     "output_type": "stream",
     "text": [
      "================================\u001b[1m Human Message \u001b[0m=================================\n",
      "\n",
      "Hi there! My name is Ken.\n",
      "==================================\u001b[1m Ai Message \u001b[0m==================================\n",
      "\n",
      "Hi Ken, nice to meet you! 👋  What can I do for you today?\n"
     ]
    }
   ],
   "source": [
    "user_input = \"Hi there! My name is Ken.\"\n",
    "\n",
    "# The config is the **second positional argument** to stream() or invoke()!\n",
    "events = graph.stream(\n",
    "    input={\n",
    "        \"messages\": [(\"user\", user_input)]\n",
    "    }, \n",
    "    config=config, \n",
    "    stream_mode=\"values\"\n",
    ")\n",
    "\n",
    "for event in events:\n",
    "    event[\"messages\"][-1].pretty_print()"
   ]
  },
  {
   "cell_type": "markdown",
   "id": "721090dc-0106-4852-8adf-56fe2d546705",
   "metadata": {},
   "source": [
    "**Note:** The config was provided as the **second positional argument** when calling our graph. It importantly is _not_ nested within the graph inputs (`{'messages': []}`).\n",
    "\n",
    "Let's ask a followup: see if it remembers your name."
   ]
  },
  {
   "cell_type": "code",
   "execution_count": 30,
   "id": "e57bcf2d-454d-4720-82a7-b85e1d0a168f",
   "metadata": {},
   "outputs": [
    {
     "name": "stdout",
     "output_type": "stream",
     "text": [
      "================================\u001b[1m Human Message \u001b[0m=================================\n",
      "\n",
      "Remember my name?\n",
      "==================================\u001b[1m Ai Message \u001b[0m==================================\n",
      "\n",
      "I will try my best to remember your name, Ken! 😊  Is there anything else I can help you with?\n"
     ]
    }
   ],
   "source": [
    "user_input = \"Remember my name?\"\n",
    "\n",
    "# The config is the **second positional argument** to stream() or invoke()!\n",
    "events = graph.stream(\n",
    "    input = {\n",
    "        \"messages\": [(\"user\", user_input)]\n",
    "    }, \n",
    "    config=config, \n",
    "    stream_mode=\"values\"\n",
    ")\n",
    "\n",
    "for event in events:\n",
    "    event[\"messages\"][-1].pretty_print()"
   ]
  },
  {
   "cell_type": "markdown",
   "id": "0d08a915-e91c-4a1c-9089-ffd51de60c67",
   "metadata": {},
   "source": [
    "**Notice** that we aren't using an external list for memory – it's all handled by the checkpointer!\n",
    "\n",
    "Try using a different `thread_id` in the `config` argument and see if it remembers your name:"
   ]
  },
  {
   "cell_type": "code",
   "execution_count": 31,
   "id": "f08c223d-1ad8-4357-ac69-57543a5f0af0",
   "metadata": {},
   "outputs": [
    {
     "name": "stdout",
     "output_type": "stream",
     "text": [
      "================================\u001b[1m Human Message \u001b[0m=================================\n",
      "\n",
      "Remember my name?\n",
      "==================================\u001b[1m Ai Message \u001b[0m==================================\n",
      "\n",
      "I am sorry, I do not have memory of past conversations. If you would like to tell me your name, I can remember it for this conversation. What is your name?\n"
     ]
    }
   ],
   "source": [
    "events = graph.stream(\n",
    "    input={\n",
    "        \"messages\": [(\"user\", user_input)]\n",
    "    },\n",
    "    config={\n",
    "        \"configurable\": {\n",
    "            # Only difference is we change the `thread_id` \n",
    "            # to \"2\" instead of \"1\"\n",
    "            \"thread_id\": \"2\"\n",
    "        }\n",
    "    },\n",
    "    stream_mode=\"values\",\n",
    ")\n",
    "\n",
    "for event in events:\n",
    "    event[\"messages\"][-1].pretty_print()"
   ]
  },
  {
   "cell_type": "markdown",
   "id": "bc8768b2-53b2-4024-9173-18710af3c5ed",
   "metadata": {},
   "source": [
    "**Notice** that the **only** change we've made is to modify the `thread_id` in the config.\n",
    "\n",
    "By now, we have made a few checkpoints across two different threads. But what goes into a checkpoint? To inspect a graph's `state` for a given config at any time, call `get_state(config)`."
   ]
  },
  {
   "cell_type": "code",
   "execution_count": 32,
   "id": "5276359b-647e-4d42-a3db-c9782ba9ad10",
   "metadata": {},
   "outputs": [
    {
     "data": {
      "text/plain": [
       "StateSnapshot(values={'messages': [HumanMessage(content='Hi there! My name is Ken.', id='efa2a6d6-d140-48d6-9604-b42d6adc0df2'), AIMessage(content='Hi Ken, nice to meet you! 👋  What can I do for you today? \\n', response_metadata={'prompt_feedback': {'block_reason': 0, 'safety_ratings': []}, 'finish_reason': 'STOP', 'safety_ratings': [{'category': 'HARM_CATEGORY_SEXUALLY_EXPLICIT', 'probability': 'NEGLIGIBLE', 'blocked': False}, {'category': 'HARM_CATEGORY_HATE_SPEECH', 'probability': 'NEGLIGIBLE', 'blocked': False}, {'category': 'HARM_CATEGORY_HARASSMENT', 'probability': 'NEGLIGIBLE', 'blocked': False}, {'category': 'HARM_CATEGORY_DANGEROUS_CONTENT', 'probability': 'NEGLIGIBLE', 'blocked': False}]}, id='run-bad3872b-e569-41b6-a2fa-92b9b2131f92-0', usage_metadata={'input_tokens': 82, 'output_tokens': 18, 'total_tokens': 100}), HumanMessage(content='Remember my name?', id='ed4c40a7-4bb1-40e2-8fc5-853822f17005'), AIMessage(content='I will try my best to remember your name, Ken! 😊  Is there anything else I can help you with? \\n', response_metadata={'prompt_feedback': {'block_reason': 0, 'safety_ratings': []}, 'finish_reason': 'STOP', 'safety_ratings': [{'category': 'HARM_CATEGORY_SEXUALLY_EXPLICIT', 'probability': 'NEGLIGIBLE', 'blocked': False}, {'category': 'HARM_CATEGORY_HATE_SPEECH', 'probability': 'NEGLIGIBLE', 'blocked': False}, {'category': 'HARM_CATEGORY_HARASSMENT', 'probability': 'NEGLIGIBLE', 'blocked': False}, {'category': 'HARM_CATEGORY_DANGEROUS_CONTENT', 'probability': 'NEGLIGIBLE', 'blocked': False}]}, id='run-2a01cf6c-9f9f-4a2f-acc0-ceec6c853055-0', usage_metadata={'input_tokens': 108, 'output_tokens': 24, 'total_tokens': 132})]}, next=(), config={'configurable': {'thread_id': '1', 'thread_ts': '1ef32a71-bef4-6b52-8004-f1db115a9480'}}, metadata={'source': 'loop', 'step': 4, 'writes': {'chatbot': {'messages': [AIMessage(content='I will try my best to remember your name, Ken! 😊  Is there anything else I can help you with? \\n', response_metadata={'prompt_feedback': {'block_reason': 0, 'safety_ratings': []}, 'finish_reason': 'STOP', 'safety_ratings': [{'category': 'HARM_CATEGORY_SEXUALLY_EXPLICIT', 'probability': 'NEGLIGIBLE', 'blocked': False}, {'category': 'HARM_CATEGORY_HATE_SPEECH', 'probability': 'NEGLIGIBLE', 'blocked': False}, {'category': 'HARM_CATEGORY_HARASSMENT', 'probability': 'NEGLIGIBLE', 'blocked': False}, {'category': 'HARM_CATEGORY_DANGEROUS_CONTENT', 'probability': 'NEGLIGIBLE', 'blocked': False}]}, id='run-2a01cf6c-9f9f-4a2f-acc0-ceec6c853055-0', usage_metadata={'input_tokens': 108, 'output_tokens': 24, 'total_tokens': 132})]}}}, created_at='2024-06-25T03:57:58.136888+00:00', parent_config={'configurable': {'thread_id': '1', 'thread_ts': '1ef32a71-b704-696a-8003-133201cb632b'}})"
      ]
     },
     "execution_count": 32,
     "metadata": {},
     "output_type": "execute_result"
    }
   ],
   "source": [
    "snapshot = graph.get_state(config) # config for thread_id = 1\n",
    "snapshot"
   ]
  },
  {
   "cell_type": "code",
   "execution_count": 34,
   "id": "96ef7301-ba6c-4978-a5b7-313cf2c10132",
   "metadata": {},
   "outputs": [
    {
     "data": {
      "text/plain": [
       "()"
      ]
     },
     "execution_count": 34,
     "metadata": {},
     "output_type": "execute_result"
    }
   ],
   "source": [
    "# Since the graph ended this turn, `next` is empty. \n",
    "# If you fetch a state from within a graph invocation, \n",
    "# next tells which node will execute next.\n",
    "snapshot.next"
   ]
  },
  {
   "cell_type": "markdown",
   "id": "cab80be7-e526-4132-83b2-782954ffdebc",
   "metadata": {},
   "source": [
    "The snapshot above contains the current state values, corresponding config, and the `next` node to process. In our case, the graph has reached an `__end__` state, so `next` is empty.\n",
    "\n",
    "**Congratulations!** Our chatbot can now maintain conversation state across sessions thanks to LangGraph's checkpointing system. This opens up exciting possibilities for more natural, contextual interactions. LangGraph's checkpointing even handles **arbitrarily complex graph states**, which is much more expressive and powerful than simple chat memory.\n",
    "\n",
    "In the next part, we'll introduce human oversight to our bot to handle situations where it may need guidance or verification before proceeding.\n",
    "  \n",
    "Check out the code snippet below to review our graph from this section:"
   ]
  },
  {
   "cell_type": "code",
   "execution_count": 35,
   "id": "5baedc29-0087-44a3-ab0c-ae82ab6c069e",
   "metadata": {},
   "outputs": [],
   "source": [
    "from typing import Annotated\n",
    "\n",
    "from langchain_google_genai import ChatGoogleGenerativeAI\n",
    "from langchain_community.tools.tavily_search import TavilySearchResults\n",
    "from langchain_core.messages import BaseMessage\n",
    "from typing_extensions import TypedDict\n",
    "\n",
    "from langgraph.checkpoint.sqlite import SqliteSaver\n",
    "from langgraph.graph import StateGraph\n",
    "from langgraph.graph.message import add_messages\n",
    "from langgraph.prebuilt import ToolNode\n",
    "\n",
    "\n",
    "class State(TypedDict):\n",
    "    messages: Annotated[list, add_messages]\n",
    "\n",
    "\n",
    "graph_builder = StateGraph(State)\n",
    "\n",
    "\n",
    "tool = TavilySearchResults(max_results=2)\n",
    "tools = [tool]\n",
    "\n",
    "llm = ChatGoogleGenerativeAI(model=\"gemini-1.5-flash\")\n",
    "llm_with_tools = llm.bind_tools(tools)\n",
    "\n",
    "\n",
    "def chatbot(state: State):\n",
    "    return {\"messages\": [llm_with_tools.invoke(state[\"messages\"])]}\n",
    "\n",
    "\n",
    "graph_builder.add_node(\"chatbot\", chatbot)\n",
    "\n",
    "tool_node = ToolNode(tools=[tool])\n",
    "graph_builder.add_node(\"tools\", tool_node)\n",
    "\n",
    "graph_builder.add_conditional_edges(\n",
    "    \"chatbot\",\n",
    "    tools_condition,\n",
    ")\n",
    "graph_builder.add_edge(\"tools\", \"chatbot\")\n",
    "graph_builder.set_entry_point(\"chatbot\")\n",
    "\n",
    "graph = graph_builder.compile(checkpointer=memory)"
   ]
  },
  {
   "cell_type": "markdown",
   "id": "dbd48652-7bb6-4e3b-97de-be7e7158708d",
   "metadata": {},
   "source": [
    "## Part 4: Human-in-the-loop\n",
    "\n",
    "Agents can be unreliable and may need human input to successfully accomplish tasks. Similarly, for some actions, you may want to require human approval before executing to ensure that everything is working as intended.\n",
    "\n",
    "LangGraph supports `human-in-the-loop` workflows in a number of ways. In this section, we will use LangGraph's `interrupt_before` functionality to always break at the tool node.\n",
    "\n",
    "First, start from our existing code. The following is copied from Part 3."
   ]
  },
  {
   "cell_type": "code",
   "execution_count": 43,
   "id": "5b82cf61-4647-43fb-ace9-bb4b5fc3d2c3",
   "metadata": {},
   "outputs": [],
   "source": [
    "from typing import Annotated\n",
    "\n",
    "from langchain_google_genai import ChatGoogleGenerativeAI\n",
    "from langchain_community.tools.tavily_search import TavilySearchResults\n",
    "from langchain_core.messages import BaseMessage\n",
    "from typing_extensions import TypedDict\n",
    "\n",
    "from langgraph.checkpoint.sqlite import SqliteSaver\n",
    "from langgraph.graph import StateGraph\n",
    "from langgraph.graph.message import add_messages\n",
    "from langgraph.prebuilt import ToolNode\n",
    "\n",
    "\n",
    "class State(TypedDict):\n",
    "    messages: Annotated[list, add_messages]\n",
    "\n",
    "graph_builder = StateGraph(State)\n",
    "\n",
    "\n",
    "tool = TavilySearchResults(max_results=2)\n",
    "tools = [tool]\n",
    "\n",
    "llm = ChatGoogleGenerativeAI(model=\"gemini-1.5-flash\")\n",
    "llm_with_tools = llm.bind_tools(tools)\n",
    "\n",
    "\n",
    "def chatbot(state: State):\n",
    "    return {\n",
    "        \"messages\": [\n",
    "            llm_with_tools.invoke(state[\"messages\"])\n",
    "        ]\n",
    "    }\n",
    "\n",
    "\n",
    "graph_builder.add_node(\"chatbot\", chatbot)\n",
    "\n",
    "tool_node = ToolNode(tools=tools)\n",
    "graph_builder.add_node(\"tools\", tool_node)\n",
    "\n",
    "graph_builder.add_conditional_edges(\n",
    "    \"chatbot\",\n",
    "    tools_condition,\n",
    ")\n",
    "graph_builder.add_edge(\"tools\", \"chatbot\")\n",
    "graph_builder.set_entry_point(\"chatbot\")"
   ]
  },
  {
   "cell_type": "markdown",
   "id": "d0b7f6cf-a3df-4608-b9e4-5814f4e57d22",
   "metadata": {},
   "source": [
    "Now, compile the graph, specifying to `interrupt_before` the `action` node."
   ]
  },
  {
   "cell_type": "code",
   "execution_count": 44,
   "id": "fdd0546f-40bd-4403-9f7f-a91f4e38aeab",
   "metadata": {},
   "outputs": [],
   "source": [
    "memory = SqliteSaver.from_conn_string(\":memory:\")\n",
    "\n",
    "graph = graph_builder.compile(\n",
    "    checkpointer=memory,    \n",
    "    # This is new!\n",
    "    interrupt_before=[\"tools\"],\n",
    "    # Note: can also interrupt __after__ actions, if desired.\n",
    "    # interrupt_after=[\"tools\"]\n",
    ")"
   ]
  },
  {
   "cell_type": "code",
   "execution_count": 45,
   "id": "0ff0772a-52a1-40da-92bb-6a5a904d8d6d",
   "metadata": {},
   "outputs": [
    {
     "name": "stdout",
     "output_type": "stream",
     "text": [
      "================================\u001b[1m Human Message \u001b[0m=================================\n",
      "\n",
      "What is the weather in Kuala Lumpur?\n",
      "==================================\u001b[1m Ai Message \u001b[0m==================================\n",
      "Tool Calls:\n",
      "  tavily_search_results_json (2ea85c39-bb4c-4978-a2ee-54c21e426fd5)\n",
      " Call ID: 2ea85c39-bb4c-4978-a2ee-54c21e426fd5\n",
      "  Args:\n",
      "    query: weather in Kuala Lumpur\n"
     ]
    }
   ],
   "source": [
    "user_input = \"What is the weather in Kuala Lumpur?\"\n",
    "config = {\n",
    "    \"configurable\": {\"thread_id\": \"1\"}\n",
    "}\n",
    "\n",
    "# The config is the **second positional argument** to stream() or invoke()!\n",
    "events = graph.stream(\n",
    "    input={\n",
    "        \"messages\": [(\"user\", user_input)]\n",
    "    }, \n",
    "    config=config, \n",
    "    stream_mode=\"values\"\n",
    ")\n",
    "\n",
    "for event in events:\n",
    "    if \"messages\" in event:\n",
    "        event[\"messages\"][-1].pretty_print()"
   ]
  },
  {
   "cell_type": "markdown",
   "id": "9ddd7452-c713-482f-906d-acb377751dc1",
   "metadata": {},
   "source": [
    "Let's inspect the graph state to confirm it worked."
   ]
  },
  {
   "cell_type": "code",
   "execution_count": 46,
   "id": "bb3b8d4a-c9b3-4d90-9930-a6a1bde02894",
   "metadata": {},
   "outputs": [
    {
     "data": {
      "text/plain": [
       "('tools',)"
      ]
     },
     "execution_count": 46,
     "metadata": {},
     "output_type": "execute_result"
    }
   ],
   "source": [
    "snapshot = graph.get_state(config)\n",
    "snapshot.next"
   ]
  },
  {
   "cell_type": "markdown",
   "id": "0d7ae8fb-b267-4c33-88a3-e32054bca07a",
   "metadata": {},
   "source": [
    "**Notice** the `next` node is set to **`tools`**. We've interrupted it **before** the `tools` node! Let's check the tool invocation."
   ]
  },
  {
   "cell_type": "code",
   "execution_count": 47,
   "id": "c74c9faf-7210-4879-8c4e-412822f58aa6",
   "metadata": {},
   "outputs": [
    {
     "data": {
      "text/plain": [
       "[{'name': 'tavily_search_results_json',\n",
       "  'args': {'query': 'weather in Kuala Lumpur'},\n",
       "  'id': '2ea85c39-bb4c-4978-a2ee-54c21e426fd5'}]"
      ]
     },
     "execution_count": 47,
     "metadata": {},
     "output_type": "execute_result"
    }
   ],
   "source": [
    "existing_message = snapshot.values[\"messages\"][-1]\n",
    "existing_message.tool_calls"
   ]
  },
  {
   "cell_type": "markdown",
   "id": "1ba1e423-3a31-464c-abc5-240d05c2e4dc",
   "metadata": {},
   "source": [
    "This query seems reasonable. Nothing to filter here. The simplest thing the human can do is just let the graph continue executing. Let's do that below.\n",
    "\n",
    "Next, continue the graph! Passing in `None` will just let the graph continue where it left off, without adding anything new to the state."
   ]
  },
  {
   "cell_type": "code",
   "execution_count": 48,
   "id": "f9576a4a-2be2-4e69-932d-630c154a17eb",
   "metadata": {},
   "outputs": [
    {
     "name": "stdout",
     "output_type": "stream",
     "text": [
      "=================================\u001b[1m Tool Message \u001b[0m=================================\n",
      "Name: tavily_search_results_json\n",
      "\n",
      "[{\"url\": \"https://www.met.gov.my/en/forecast/weather/town/\", \"content\": \"Location : Kuala Lumpur. Date Weather Forecast; 20/06/2024 Thursday Thunderstorms Morning: Thunderstorms Afternoon: Thunderstorms Night: No rain Min: 24 ... 25/06/2024 Tuesday Thunderstorms Morning: Thunderstorms Afternoon: No rain Night: No rain Min: 24\\u00b0C Max: 34\\u00b0C\"}, {\"url\": \"https://www.weatherapi.com/\", \"content\": \"{'location': {'name': 'Kuala Lumpur', 'region': 'Kuala Lumpur', 'country': 'Malaysia', 'lat': 3.17, 'lon': 101.7, 'tz_id': 'Asia/Kuala_Lumpur', 'localtime_epoch': 1719295963, 'localtime': '2024-06-25 14:12'}, 'current': {'last_updated_epoch': 1719295200, 'last_updated': '2024-06-25 14:00', 'temp_c': 32.7, 'temp_f': 90.8, 'is_day': 1, 'condition': {'text': 'Patchy rain nearby', 'icon': '//cdn.weatherapi.com/weather/64x64/day/176.png', 'code': 1063}, 'wind_mph': 4.9, 'wind_kph': 7.9, 'wind_degree': 202, 'wind_dir': 'SSW', 'pressure_mb': 1007.0, 'pressure_in': 29.74, 'precip_mm': 0.04, 'precip_in': 0.0, 'humidity': 54, 'cloud': 86, 'feelslike_c': 37.3, 'feelslike_f': 99.1, 'windchill_c': 32.7, 'windchill_f': 90.8, 'heatindex_c': 37.3, 'heatindex_f': 99.1, 'dewpoint_c': 22.3, 'dewpoint_f': 72.1, 'vis_km': 10.0, 'vis_miles': 6.0, 'uv': 7.0, 'gust_mph': 5.7, 'gust_kph': 9.1}}\"}]\n",
      "==================================\u001b[1m Ai Message \u001b[0m==================================\n",
      "\n",
      "The weather in Kuala Lumpur is currently Patchy rain nearby with a temperature of 32.7 degrees Celsius. The feels like temperature is 37.3 degrees Celsius.\n"
     ]
    }
   ],
   "source": [
    "# `None` will append nothing new to the current state, letting it \n",
    "# resume as if it had never been interrupted.\n",
    "events = graph.stream(\n",
    "    input=None, \n",
    "    config=config, \n",
    "    stream_mode=\"values\"\n",
    ")\n",
    "\n",
    "for event in events:\n",
    "    if \"messages\" in event:\n",
    "        event[\"messages\"][-1].pretty_print()"
   ]
  },
  {
   "cell_type": "markdown",
   "id": "b6395b83-b8f2-43fa-9433-ac9a43223c0d",
   "metadata": {},
   "source": [
    "**Congrats!** We've used an `interrupt` to add human-in-the-loop execution to your chatbot, allowing for human oversight and intervention when needed. This opens up the potential UIs you can create with your AI systems. Since we have already added a **checkpointer**, the graph can be paused **indefinitely** and resumed at any time as if nothing had happened.\n",
    "\n",
    "Next, we'll explore how to further customize the bot's behavior using custom state updates.\n",
    "\n",
    "Below is a copy of the code you used in this section. The only difference between this and the previous parts is the addition of the `interrupt_before` argument."
   ]
  },
  {
   "cell_type": "code",
   "execution_count": 49,
   "id": "81f56786-0016-4b72-b20f-0e3b767221d7",
   "metadata": {},
   "outputs": [],
   "source": [
    "from typing import Annotated\n",
    "\n",
    "from langchain_google_genai import ChatGoogleGenerativeAI\n",
    "from langchain_community.tools.tavily_search import TavilySearchResults\n",
    "from langchain_core.messages import BaseMessage\n",
    "from typing_extensions import TypedDict\n",
    "\n",
    "from langgraph.checkpoint.sqlite import SqliteSaver\n",
    "from langgraph.graph import StateGraph\n",
    "from langgraph.graph.message import add_messages\n",
    "from langgraph.prebuilt import ToolNode\n",
    "\n",
    "\n",
    "class State(TypedDict):\n",
    "    messages: Annotated[list, add_messages]\n",
    "\n",
    "\n",
    "graph_builder = StateGraph(state_schema=State)\n",
    "\n",
    "\n",
    "tool = TavilySearchResults(max_results=2)\n",
    "tools = [tool]\n",
    "\n",
    "llm = ChatGoogleGenerativeAI(model=\"gemini-1.5-flash\")\n",
    "llm_with_tools = llm.bind_tools(tools)\n",
    "\n",
    "\n",
    "def chatbot(state: State):\n",
    "    return {\"messages\": [llm_with_tools.invoke(state[\"messages\"])]}\n",
    "\n",
    "\n",
    "graph_builder.add_node(node=\"chatbot\", action=chatbot)\n",
    "\n",
    "tool_node = ToolNode(tools=tools)\n",
    "graph_builder.add_node(node=\"tools\", action=tool_node)\n",
    "\n",
    "graph_builder.add_conditional_edges(\n",
    "    source=\"chatbot\",\n",
    "    path=tools_condition,\n",
    ")\n",
    "graph_builder.add_edge(\n",
    "    start_key=\"tools\", \n",
    "    end_key=\"chatbot\"\n",
    ")\n",
    "graph_builder.set_entry_point(key=\"chatbot\")\n",
    "\n",
    "memory = SqliteSaver.from_conn_string(\":memory:\")\n",
    "\n",
    "graph = graph_builder.compile(\n",
    "    checkpointer=memory,\n",
    "    \n",
    "    # This is new!\n",
    "    interrupt_before=[\"tools\"],\n",
    "    # Note: can also interrupt __after__ actions, if desired.\n",
    "    # interrupt_after=[\"tools\"]\n",
    ")"
   ]
  },
  {
   "cell_type": "markdown",
   "id": "0c0bf1bd-fb80-45b4-b7b2-ff208f793eb7",
   "metadata": {},
   "source": [
    "## Part 5: Manually Updating the State\n",
    "\n",
    "In the previous section, we showed how to interrupt a graph so that a human could inspect its actions. This lets the human `read` the state, but if they want to change they agent's course, they'll need to have `write` access.\n",
    "\n",
    "Thankfully, LangGraph lets us **manually update state**! Updating the state lets you control the agent's trajectory by modifying its actions (even modifying the past!). This capability is particularly useful when you want to correct the agent's mistakes, explore alternative paths, or guide the agent towards a specific goal.\n",
    "\n",
    "We'll show how to update a checkpointed state below. As before, first, define your graph. We'll reuse the exact same graph as before."
   ]
  },
  {
   "cell_type": "code",
   "execution_count": 4,
   "id": "e34c6dda-0dec-4f22-9502-0aed41bcb6f0",
   "metadata": {},
   "outputs": [],
   "source": [
    "from typing import Annotated\n",
    "\n",
    "from langchain_google_genai import ChatGoogleGenerativeAI\n",
    "from langchain_community.tools.tavily_search import TavilySearchResults\n",
    "from langchain_core.messages import BaseMessage\n",
    "from typing_extensions import TypedDict\n",
    "\n",
    "from langgraph.checkpoint.sqlite import SqliteSaver\n",
    "from langgraph.graph import StateGraph\n",
    "from langgraph.graph.message import add_messages\n",
    "from langgraph.prebuilt import ToolNode, tools_condition\n",
    "\n",
    "\n",
    "class State(TypedDict):\n",
    "    messages: Annotated[list, add_messages]\n",
    "\n",
    "\n",
    "graph_builder = StateGraph(state_schema=State)\n",
    "\n",
    "\n",
    "tool = TavilySearchResults(max_results=2)\n",
    "tools = [tool]\n",
    "\n",
    "llm = ChatGoogleGenerativeAI(model=\"gemini-1.5-flash\")\n",
    "llm_with_tools = llm.bind_tools(tools)\n",
    "\n",
    "\n",
    "def chatbot(state: State):\n",
    "    return {\n",
    "        \"messages\": [\n",
    "            llm_with_tools.invoke(state[\"messages\"])\n",
    "        ]\n",
    "    }\n",
    "\n",
    "\n",
    "graph_builder.add_node(\n",
    "    node=\"chatbot\", \n",
    "    action=chatbot\n",
    ")\n",
    "\n",
    "tool_node = ToolNode(tools=tools)\n",
    "graph_builder.add_node(\n",
    "    node=\"tools\", \n",
    "    action=tool_node\n",
    ")\n",
    "\n",
    "graph_builder.add_conditional_edges(\n",
    "    source=\"chatbot\",\n",
    "    path=tools_condition,\n",
    ")\n",
    "graph_builder.add_edge(\n",
    "    start_key=\"tools\", \n",
    "    end_key=\"chatbot\"\n",
    ")\n",
    "graph_builder.set_entry_point(key=\"chatbot\")\n",
    "\n",
    "memory = SqliteSaver.from_conn_string(\":memory:\")\n",
    "graph = graph_builder.compile(\n",
    "    checkpointer=memory,\n",
    "    \n",
    "    # This is new!\n",
    "    interrupt_before=[\"tools\"],\n",
    "    # Note: can also interrupt __after__ actions, if desired.\n",
    "    # interrupt_after=[\"tools\"]\n",
    ")"
   ]
  },
  {
   "cell_type": "code",
   "execution_count": 5,
   "id": "315eda8d-2356-4718-83f0-42fb327bd49e",
   "metadata": {},
   "outputs": [],
   "source": [
    "user_input = \"What is the weather like in Kuala Lumpur?\"\n",
    "config = {\n",
    "    \"configurable\": {\"thread_id\": \"1\"}\n",
    "}\n",
    "\n",
    "events = graph.stream(\n",
    "    input={\n",
    "        \"messages\": [(\"user\", user_input)]\n",
    "    }, \n",
    "    config=config\n",
    ")\n",
    "\n",
    "for event in events:\n",
    "    if \"messages\" in event:\n",
    "        event[\"messages\"][-1].pretty_print()"
   ]
  },
  {
   "cell_type": "code",
   "execution_count": 6,
   "id": "3dce92ef-d7b7-4ca5-81d5-9bd23bdbe2cd",
   "metadata": {},
   "outputs": [
    {
     "name": "stdout",
     "output_type": "stream",
     "text": [
      "==================================\u001b[1m Ai Message \u001b[0m==================================\n",
      "Tool Calls:\n",
      "  tavily_search_results_json (68065c86-c85e-4659-a6fc-97510889d89e)\n",
      " Call ID: 68065c86-c85e-4659-a6fc-97510889d89e\n",
      "  Args:\n",
      "    query: weather in Kuala Lumpur\n"
     ]
    }
   ],
   "source": [
    "snapshot = graph.get_state(config)\n",
    "existing_message = snapshot.values[\"messages\"][-1]\n",
    "existing_message.pretty_print()"
   ]
  },
  {
   "cell_type": "markdown",
   "id": "0af71107-d0cf-49d5-ba45-c4bb83ec5483",
   "metadata": {},
   "source": [
    "So far, all of this is an _exact repeat_ of the previous section. The LLM just requested to use the search engine tool and our graph was interrupted. If we proceed as before, the tool will be called to search the web.\n",
    "\n",
    "But what if the user wants to intercede? What if we think the chat bot doesn't need to use the tool? \n",
    "\n",
    "Let's directly provide the correct response!"
   ]
  },
  {
   "cell_type": "code",
   "execution_count": 8,
   "id": "1cb1d63c-7fa7-4a0f-9857-eb4b1ef5851a",
   "metadata": {},
   "outputs": [
    {
     "name": "stdout",
     "output_type": "stream",
     "text": [
      "==================================\u001b[1m Ai Message \u001b[0m==================================\n",
      "\n",
      "Kuala Lumpur's weather is beautiful, sunny and warm.\n",
      "\n",
      "\n",
      "Last 2 messages:\n",
      "[ToolMessage(content=\"Kuala Lumpur's weather is beautiful, sunny and warm.\", id='1f08c078-4185-4a56-aa7e-b955f6281916', tool_call_id='68065c86-c85e-4659-a6fc-97510889d89e'),\n",
      " AIMessage(content=\"Kuala Lumpur's weather is beautiful, sunny and warm.\", id='c314c993-66a9-4257-9992-a1c5e730b85b')]\n"
     ]
    }
   ],
   "source": [
    "from pprint import pprint\n",
    "from langchain_core.messages import AIMessage, ToolMessage\n",
    "\n",
    "answer = \"Kuala Lumpur's weather is beautiful, sunny and warm.\"\n",
    "\n",
    "new_messages = [\n",
    "    # The LLM API expects some ToolMessage to match its tool call. \n",
    "    # We'll satisfy that here.\n",
    "    ToolMessage(\n",
    "        content=answer, \n",
    "        # LLM only has 1 tool available.\n",
    "        tool_call_id=existing_message.tool_calls[0][\"id\"]\n",
    "    ),\n",
    "    \n",
    "    # And then directly \"put words in the LLM's mouth\" by \n",
    "    # populating its response.\n",
    "    AIMessage(content=answer),\n",
    "]\n",
    "\n",
    "new_messages[-1].pretty_print()\n",
    "\n",
    "graph.update_state(\n",
    "    # Which state to update\n",
    "    config=config,\n",
    "    \n",
    "    # The updated values to provide. The \"messages\" in our `State` \n",
    "    # are \"append-only\", meaning this will be appended\n",
    "    # to the existing state. We will review how to update \n",
    "    # existing messages in the next section!\n",
    "    values={\n",
    "        \"messages\": new_messages},\n",
    ")\n",
    "\n",
    "print(\"\\n\\nLast 2 messages:\")\n",
    "pprint(graph.get_state(config).values[\"messages\"][-2:])"
   ]
  },
  {
   "cell_type": "markdown",
   "id": "e8b38fc2-2eb5-4a4e-bec7-554718a04bec",
   "metadata": {},
   "source": [
    "Now the graph is complete, since we've provided the final response message!\n",
    "\n",
    "**Notice** that our new messages are _appended_ to the messages already in the state. Remember how we defined the `State` type?\n",
    "\n",
    "```python\n",
    "class State(TypedDict):\n",
    "    messages: Annotated[list, add_messages]\n",
    "```\n",
    "\n",
    "We annotated `messages` with the pre-built `add_messages` function. This instructs the graph to always append values to the existing list, rather than overwriting the list directly. The same logic is applied here, so the messages we passed to `update_state` were appended in the same way!\n",
    "\n",
    "The `update_state` function operates as if it were one of the nodes in your graph! By default, the update operation uses the node that was **last** executed, but you can manually specify it below. Let's add an update and tell the graph to treat it as if it came from the `\"chatbot\"` node."
   ]
  },
  {
   "cell_type": "code",
   "execution_count": 9,
   "id": "accb733b-ee46-4343-a07c-d8fc10c45fa7",
   "metadata": {},
   "outputs": [
    {
     "data": {
      "text/plain": [
       "{'configurable': {'thread_id': '1',\n",
       "  'thread_ts': '1ef336e7-361e-63fa-8003-1f9a7687fdf2'}}"
      ]
     },
     "execution_count": 9,
     "metadata": {},
     "output_type": "execute_result"
    }
   ],
   "source": [
    "graph.update_state(\n",
    "    config=config,\n",
    "    values={\n",
    "        \"messages\": [\n",
    "            AIMessage(content=\"I'm an AI expert!\")\n",
    "        ]\n",
    "    },\n",
    "    \n",
    "    # Which node for this function to act as. It will \n",
    "    # automatically continue processing as if this node \n",
    "    # just ran.\n",
    "    as_node=\"chatbot\",\n",
    ")"
   ]
  },
  {
   "cell_type": "markdown",
   "id": "c4acf0c9-2c29-4214-b30b-5c398c170078",
   "metadata": {},
   "source": [
    "Check out the [LangSmith trace](https://smith.langchain.com/public/ce83989f-6e49-4bdd-bcd5-f54ca55c8d00/r/30b1406a-ae5b-4e9e-9fe5-032be6efb92e) for this update call at the provided link. **Notice** from the trace that the graph continues into the `tools_condition` edge. We just told the graph to treat the update `as_node=\"chatbot\"`. If we follow the diagram below and start from the `chatbot` node, we naturally end up in the `tools_condition` edge and then `__end__` since our updated message lacks tool calls."
   ]
  },
  {
   "cell_type": "code",
   "execution_count": 10,
   "id": "d63a20e3-db09-4223-933b-6b0e86b3b0e5",
   "metadata": {},
   "outputs": [
    {
     "data": {
      "image/jpeg": "[encoded data removed]",
      "text/plain": [
       "<IPython.core.display.Image object>"
      ]
     },
     "metadata": {},
     "output_type": "display_data"
    }
   ],
   "source": [
    "from IPython.display import Image, display\n",
    "\n",
    "display(\n",
    "    Image(\n",
    "        graph.get_graph().draw_mermaid_png()\n",
    "    )\n",
    ")"
   ]
  },
  {
   "cell_type": "markdown",
   "id": "32c9addc-b09e-4e81-b19c-65b79f6d4de4",
   "metadata": {},
   "source": [
    "Inspect the current state as before to confirm the checkpoint reflects our manual updates."
   ]
  },
  {
   "cell_type": "code",
   "execution_count": 11,
   "id": "002388ae-a1c6-47f3-b53c-95d87c564f0c",
   "metadata": {},
   "outputs": [
    {
     "name": "stdout",
     "output_type": "stream",
     "text": [
      "[ToolMessage(content=\"Kuala Lumpur's weather is beautiful, sunny and warm.\", id='1f08c078-4185-4a56-aa7e-b955f6281916', tool_call_id='68065c86-c85e-4659-a6fc-97510889d89e'),\n",
      " AIMessage(content=\"Kuala Lumpur's weather is beautiful, sunny and warm.\", id='c314c993-66a9-4257-9992-a1c5e730b85b'),\n",
      " AIMessage(content=\"I'm an AI expert!\", id='0e3527d4-b102-4ee2-8cdd-c67276f73752')]\n"
     ]
    }
   ],
   "source": [
    "snapshot = graph.get_state(config)\n",
    "\n",
    "pprint(\n",
    "    # Last 3 messages.\n",
    "    snapshot.values[\"messages\"][-3:]\n",
    ")"
   ]
  },
  {
   "cell_type": "code",
   "execution_count": 12,
   "id": "b50bcaf4-b98a-46d6-a6d4-de6b881dec9f",
   "metadata": {},
   "outputs": [
    {
     "name": "stdout",
     "output_type": "stream",
     "text": [
      "()\n"
     ]
    }
   ],
   "source": [
    "# Since the graph ended this turn, `next` is empty. \n",
    "# If you fetch a state from within a graph invocation, \n",
    "# next tells which node will execute next.\n",
    "print(snapshot.next)"
   ]
  },
  {
   "cell_type": "markdown",
   "id": "122cf77f-7308-4245-ab22-cbb307f3f23a",
   "metadata": {},
   "source": [
    "**Notice**: that we've continued to add AI messages to the state. Since we are acting as the `chatbot` and responding with an `AIMessage` that doesn't contain `tool_calls`, the graph knows that it has entered a finished state (`next` is empty)."
   ]
  },
  {
   "cell_type": "markdown",
   "id": "06ebb5b1-8f8e-44bf-a0ec-e1fddb855acb",
   "metadata": {},
   "source": [
    "#### What if you want to **overwrite** existing messages? \n",
    "\n",
    "The [`add_messages`](https://langchain-ai.github.io/langgraph/reference/graphs/?h=add+messages#add_messages) function we used to annotate our graph's `State` above controls how updates are made to the `messages` key. This function looks at any message IDs in the new `messages` list. If the ID matches a message in the existing state, [`add_messages`](https://langchain-ai.github.io/langgraph/reference/graphs/?h=add+messages#add_messages) **overwrites** the existing message with the new content. \n",
    "\n",
    "As an example, let's update the tool invocation to make sure we get good results from our search engine! First, start a new thread:"
   ]
  },
  {
   "cell_type": "code",
   "execution_count": 13,
   "id": "748926d5-12a0-43a6-91b7-26c3667915f2",
   "metadata": {},
   "outputs": [
    {
     "name": "stdout",
     "output_type": "stream",
     "text": [
      "================================\u001b[1m Human Message \u001b[0m=================================\n",
      "\n",
      "What is the weather like in Kuala Lumpur?\n",
      "==================================\u001b[1m Ai Message \u001b[0m==================================\n",
      "Tool Calls:\n",
      "  tavily_search_results_json (9b3711af-b872-4339-9dd8-fbff1c013b1c)\n",
      " Call ID: 9b3711af-b872-4339-9dd8-fbff1c013b1c\n",
      "  Args:\n",
      "    query: weather in Kuala Lumpur\n"
     ]
    }
   ],
   "source": [
    "user_input = \"What is the weather like in Kuala Lumpur?\"\n",
    "config = {\n",
    "    # we'll use thread_id = 2 here\n",
    "    \"configurable\": {\"thread_id\": \"2\"}\n",
    "}  \n",
    "\n",
    "events = graph.stream(\n",
    "    input={\n",
    "        \"messages\": [(\"user\", user_input)]\n",
    "    }, \n",
    "    config=config, \n",
    "    stream_mode=\"values\"\n",
    ")\n",
    "\n",
    "for event in events:\n",
    "    if \"messages\" in event:\n",
    "        event[\"messages\"][-1].pretty_print()"
   ]
  },
  {
   "cell_type": "markdown",
   "id": "079720e0-d3f0-4b8f-a595-3eb6a3b31392",
   "metadata": {},
   "source": [
    "**Next,** let's update the tool invocation for our agent. Maybe we want to search for what the weather is like in **New York** instead."
   ]
  },
  {
   "cell_type": "code",
   "execution_count": 14,
   "id": "c2de8cd9-b78c-41e8-95f3-33689a80d8bc",
   "metadata": {},
   "outputs": [
    {
     "name": "stdout",
     "output_type": "stream",
     "text": [
      "--- Original ---\n",
      "Message ID =  run-37e31060-80ef-499a-9cfa-29a6f9af968c-0\n",
      "{'args': {'query': 'weather in Kuala Lumpur'},\n",
      " 'id': '9b3711af-b872-4339-9dd8-fbff1c013b1c',\n",
      " 'name': 'tavily_search_results_json'}\n",
      "--- Updated ---\n",
      "Message ID =  run-37e31060-80ef-499a-9cfa-29a6f9af968c-0\n",
      "{'args': {'query': 'weather in New York'},\n",
      " 'id': '9b3711af-b872-4339-9dd8-fbff1c013b1c',\n",
      " 'name': 'tavily_search_results_json'}\n",
      "\n",
      "\n",
      "--- Tool calls ---\n",
      "[{'args': {'query': 'weather in New York'},\n",
      "  'id': '9b3711af-b872-4339-9dd8-fbff1c013b1c',\n",
      "  'name': 'tavily_search_results_json'}]\n"
     ]
    }
   ],
   "source": [
    "from langchain_core.messages import AIMessage\n",
    "from pprint import pprint\n",
    "\n",
    "snapshot = graph.get_state(config)\n",
    "\n",
    "existing_message = snapshot.values[\"messages\"][-1]\n",
    "print(\"--- Original ---\")\n",
    "print(\"Message ID = \", existing_message.id)\n",
    "pprint(existing_message.tool_calls[0])\n",
    "\n",
    "new_tool_call = existing_message.tool_calls[0].copy()\n",
    "new_tool_call[\"args\"][\"query\"] = \"weather in New York\"\n",
    "new_message = AIMessage(\n",
    "    content=existing_message.content,\n",
    "    tool_calls=[new_tool_call],\n",
    "    \n",
    "    # Important! The ID is how LangGraph knows to REPLACE \n",
    "    # the message in the state rather than APPEND this messages\n",
    "    id=existing_message.id,\n",
    ")\n",
    "\n",
    "print(\"--- Updated ---\")\n",
    "print(\"Message ID = \", new_message.id)\n",
    "pprint(new_message.tool_calls[0])\n",
    "\n",
    "graph.update_state(\n",
    "    config=config, \n",
    "    values={\n",
    "        \"messages\": [new_message]\n",
    "    }\n",
    ")\n",
    "\n",
    "print(\"\\n\\n--- Tool calls ---\")\n",
    "pprint(\n",
    "    graph.get_state(config).values[\"messages\"][-1].tool_calls\n",
    ")"
   ]
  },
  {
   "cell_type": "markdown",
   "id": "063450bf-9dbe-44c5-9960-d24e84232dee",
   "metadata": {},
   "source": [
    "Notice that we've modified the AI's tool invocation to search for \"weather in **New York**\" instead of \"weather in **Kuala Lumpur**\".\n",
    "\n",
    "Resume the graph by streaming with an input of `None` and the existing config."
   ]
  },
  {
   "cell_type": "code",
   "execution_count": 15,
   "id": "6e732007-f224-4bb3-902b-4716e4a10aee",
   "metadata": {},
   "outputs": [
    {
     "name": "stdout",
     "output_type": "stream",
     "text": [
      "=================================\u001b[1m Tool Message \u001b[0m=================================\n",
      "Name: tavily_search_results_json\n",
      "\n",
      "[{\"url\": \"https://www.weatherapi.com/\", \"content\": \"{'location': {'name': 'New York', 'region': 'New York', 'country': 'United States of America', 'lat': 40.71, 'lon': -74.01, 'tz_id': 'America/New_York', 'localtime_epoch': 1719373584, 'localtime': '2024-06-25 23:46'}, 'current': {'last_updated_epoch': 1719372600, 'last_updated': '2024-06-25 23:30', 'temp_c': 26.1, 'temp_f': 79.0, 'is_day': 0, 'condition': {'text': 'Clear', 'icon': '//cdn.weatherapi.com/weather/64x64/night/113.png', 'code': 1000}, 'wind_mph': 2.2, 'wind_kph': 3.6, 'wind_degree': 203, 'wind_dir': 'SSW', 'pressure_mb': 1012.0, 'pressure_in': 29.89, 'precip_mm': 0.0, 'precip_in': 0.0, 'humidity': 39, 'cloud': 0, 'feelslike_c': 26.3, 'feelslike_f': 79.4, 'windchill_c': 26.0, 'windchill_f': 78.9, 'heatindex_c': 26.3, 'heatindex_f': 79.3, 'dewpoint_c': 12.1, 'dewpoint_f': 53.8, 'vis_km': 16.0, 'vis_miles': 9.0, 'uv': 1.0, 'gust_mph': 18.0, 'gust_kph': 28.9}}\"}, {\"url\": \"https://www.wunderground.com/hourly/us/ny/new-york-city/10036/date/2024-06-26\", \"content\": \"New York City Weather Forecasts. Weather Underground provides local & long-range weather forecasts, weatherreports, maps & tropical weather conditions for the New York City area. ... Wednesday 06/ ...\"}]\n",
      "==================================\u001b[1m Ai Message \u001b[0m==================================\n",
      "\n",
      "I am sorry, I cannot fulfill this request. The available tools lack the functionality to provide weather information.\n"
     ]
    }
   ],
   "source": [
    "events = graph.stream(\n",
    "    input=None, \n",
    "    config=config, \n",
    "    stream_mode=\"values\"\n",
    ")\n",
    "\n",
    "for event in events:\n",
    "    if \"messages\" in event:\n",
    "        event[\"messages\"][-1].pretty_print()"
   ]
  },
  {
   "cell_type": "markdown",
   "id": "1585b570-1687-45c2-bb5d-f2167900048b",
   "metadata": {},
   "source": [
    "**Notice** that now the graph queries the search engine using our updated query term - we were able to manually override the LLM's search here! Also note that the chatbot will not be able to answer our initial query of _\"What is the weather like in **Kuala Lumpur**?\"_, given the unrelated context of **New York** city's weather details.\n",
    "\n",
    "All of this is reflected in the graph's checkpointed memory, meaning if we continue the conversation, it will recall all the _modified_ state."
   ]
  },
  {
   "cell_type": "code",
   "execution_count": 16,
   "id": "1c1cec65-cb15-40bf-b958-e1e191e84d51",
   "metadata": {},
   "outputs": [
    {
     "name": "stdout",
     "output_type": "stream",
     "text": [
      "================================\u001b[1m Human Message \u001b[0m=================================\n",
      "\n",
      "Remind me, which place was I searching the weather for?\n",
      "==================================\u001b[1m Ai Message \u001b[0m==================================\n",
      "\n",
      "You were searching for the weather in Kuala Lumpur.\n"
     ]
    }
   ],
   "source": [
    "events = graph.stream(\n",
    "    input={\n",
    "        \"messages\": (\n",
    "            \"user\",\n",
    "            \"Remind me, which place was I searching the weather for?\",\n",
    "        )\n",
    "    },\n",
    "    config=config,\n",
    "    stream_mode=\"values\",\n",
    ")\n",
    "\n",
    "for event in events:\n",
    "    if \"messages\" in event:\n",
    "        event[\"messages\"][-1].pretty_print()"
   ]
  },
  {
   "cell_type": "markdown",
   "id": "b0fcd932-1c4e-4b28-9543-007108e0c08c",
   "metadata": {},
   "source": [
    "**Congratulations!** We've used `interrupt_before` and `update_state` to manually modify the state as a part of a human-in-the-loop workflow. Interruptions and state modifications let us control how the agent behaves. Combined with persistent checkpointing, it means we can `pause` an action and `resume` at any point. The user doesn't have to be available when the graph interrupts!\n",
    "\n",
    "The graph code for this section is identical to previous ones. The key snippets to remember are to add `.compile(..., interrupt_before=[...])` (or `interrupt_after`) if you want to explicitly pause the graph whenever it reaches a node. Then you can use `update_state` to modify the checkpoint and control how the graph should proceed."
   ]
  },
  {
   "cell_type": "markdown",
   "id": "489d9392-f3a7-4fa7-90ae-84318b35bec1",
   "metadata": {},
   "source": [
    "## Part 6: Customizing State\n",
    "\n",
    "So far, we've relied on a simple state (it's just a list of messages!). You can go far with this simple state, but if you want to define complex behavior without relying on the message list, you can add additional fields to the state. In this section, we will extend our chatbot with a new node to illustrate this.\n",
    "\n",
    "In the examples above, we involved a human deterministically: the graph __always__ interrupted whenever a tool was invoked. Suppose we wanted our chatbot to have the choice of relying on a human.\n",
    "\n",
    "One way to do this is to create a passthrough \"human\" node, before which the graph will always stop. We will only execute this node if the LLM invokes a \"human\" tool. For our convenience, we will include an `ask_human` flag in our graph state that we will flip if the LLM calls this tool.\n",
    "\n",
    "Below, define this new graph, with an updated `State`:"
   ]
  },
  {
   "cell_type": "code",
   "execution_count": 17,
   "id": "7ff2b666-db76-4244-bb17-53b917460364",
   "metadata": {},
   "outputs": [],
   "source": [
    "from typing import Annotated\n",
    "\n",
    "from langchain_google_genai import ChatGoogleGenerativeAI\n",
    "from langchain_community.tools.tavily_search import TavilySearchResults\n",
    "from langchain_core.messages import BaseMessage\n",
    "from typing_extensions import TypedDict\n",
    "\n",
    "from langgraph.checkpoint.sqlite import SqliteSaver\n",
    "from langgraph.graph import StateGraph\n",
    "from langgraph.graph.message import add_messages\n",
    "from langgraph.prebuilt import ToolNode, tools_condition\n",
    "\n",
    "\n",
    "class State(TypedDict):\n",
    "    messages: Annotated[list, add_messages]        \n",
    "    ask_human: bool # This flag is new"
   ]
  },
  {
   "cell_type": "markdown",
   "id": "1fbf9353-6558-4648-87db-414b1ba633c9",
   "metadata": {},
   "source": [
    "Next, define a schema to show the model to let it decide to request assistance."
   ]
  },
  {
   "cell_type": "code",
   "execution_count": 18,
   "id": "2540842c-39d1-4042-836e-c8b300e0391f",
   "metadata": {},
   "outputs": [],
   "source": [
    "from langchain_core.pydantic_v1 import BaseModel\n",
    "\n",
    "\n",
    "class RequestAssistance(BaseModel):\n",
    "    \"\"\"Escalate the conversation to an expert. \n",
    "    Use this if you are unable to assist directly or if \n",
    "    the user requires support beyond your permissions.\n",
    "\n",
    "    To use this function, relay the user's 'request' \n",
    "    so the expert can provide the right guidance.\n",
    "    \"\"\"\n",
    "\n",
    "    request: str"
   ]
  },
  {
   "cell_type": "markdown",
   "id": "a694cc50-bdfe-4c97-ab1f-eccd6dc75826",
   "metadata": {},
   "source": [
    "Next, define the chatbot node. The primary modification here is flip the `ask_human` flag if we see that the chatbot has invoked the `RequestAssistance` tool."
   ]
  },
  {
   "cell_type": "code",
   "execution_count": 19,
   "id": "7efb5777-a9c7-40c9-abe9-ec0fedfe15f9",
   "metadata": {},
   "outputs": [],
   "source": [
    "web_search_tool = TavilySearchResults(max_results=2)\n",
    "llm = ChatGoogleGenerativeAI(model=\"gemini-1.5-flash\")\n",
    "\n",
    "# We can bind the llm to a tool definition, \n",
    "# a pydantic model, or a json schema\n",
    "llm_with_tools = llm.bind_tools([\n",
    "    web_search_tool, \n",
    "    RequestAssistance\n",
    "])\n",
    "\n",
    "\n",
    "def chatbot(state: State):\n",
    "    response = llm_with_tools.invoke(\n",
    "        state[\"messages\"]\n",
    "    )\n",
    "    \n",
    "    ask_human = False\n",
    "    if (\n",
    "        response.tool_calls and \n",
    "        response.tool_calls[0][\"name\"] == RequestAssistance.__name__\n",
    "    ):\n",
    "        ask_human = True\n",
    "        \n",
    "    return {\n",
    "        \"messages\": [response], \n",
    "        \"ask_human\": ask_human\n",
    "    }"
   ]
  },
  {
   "cell_type": "markdown",
   "id": "8a58e36e-2f9e-43e0-a9d2-65f4d92275a3",
   "metadata": {},
   "source": [
    "Next, create the graph builder and add the chatbot and tools nodes to the graph, same as before."
   ]
  },
  {
   "cell_type": "code",
   "execution_count": 20,
   "id": "970fe2fa-4443-4356-8cba-58694dcaf7d8",
   "metadata": {},
   "outputs": [],
   "source": [
    "graph_builder = StateGraph(state_schema=State)\n",
    "\n",
    "graph_builder.add_node(\n",
    "    node=\"chatbot\", \n",
    "    action=chatbot\n",
    ")\n",
    "\n",
    "graph_builder.add_node(\n",
    "    node=\"tools\", \n",
    "    action=ToolNode(\n",
    "        tools=[web_search_tool]\n",
    "    )\n",
    ")"
   ]
  },
  {
   "cell_type": "markdown",
   "id": "c4fe7fd2-cf91-4819-a9ed-d35dab8a9af6",
   "metadata": {},
   "source": [
    "Next, create the \"human\" `node`. This `node` function is mostly a placeholder in our graph that will trigger an interrupt. If the human does __not__ manually update the state during the `interrupt`, it inserts a tool message so the LLM knows the user was requested but didn't respond. This node also unsets the `ask_human` flag so the graph knows not to revisit the node unless further requests are made."
   ]
  },
  {
   "cell_type": "code",
   "execution_count": 30,
   "id": "a4590d30-cbca-42f7-8a6d-80a7dac9061b",
   "metadata": {},
   "outputs": [],
   "source": [
    "from langchain_core.messages import AIMessage, ToolMessage\n",
    "\n",
    "\n",
    "def create_response(\n",
    "    response: str, \n",
    "    ai_message: AIMessage\n",
    "):\n",
    "    \"\"\"\n",
    "    Creates a `ToolMessage` response with custom content.\n",
    "\n",
    "    Parameters:\n",
    "        response (str): Content of the tool message.\n",
    "        ai_message (AIMessage): AI message that made the tool call.\n",
    "        \n",
    "    Returns:\n",
    "        response (ToolMessage): Tool message with given `response`.\n",
    "    \"\"\"\n",
    "    return ToolMessage(\n",
    "        content=response,\n",
    "        tool_call_id=ai_message.tool_calls[0][\"id\"],\n",
    "    )"
   ]
  },
  {
   "cell_type": "code",
   "execution_count": 21,
   "id": "5eb7bb81-de58-46e3-896c-0b240883fe3b",
   "metadata": {},
   "outputs": [],
   "source": [
    "def human_node(state: State):\n",
    "    new_messages = []\n",
    "    \n",
    "    if not isinstance(state[\"messages\"][-1], ToolMessage):\n",
    "        # Typically, the user will have updated the state \n",
    "        # during the interrupt.\n",
    "        # If they choose not to, we will include a \n",
    "        # placeholder `ToolMessage` to let the LLM continue.\n",
    "        new_messages.append(\n",
    "            create_response(\n",
    "                response=\"No response from human.\", \n",
    "                ai_message=state[\"messages\"][-1]\n",
    "            )\n",
    "        )\n",
    "        \n",
    "    return {\n",
    "        # Append the new messages\n",
    "        \"messages\": new_messages,\n",
    "        \n",
    "        # Unset the flag\n",
    "        \"ask_human\": False,\n",
    "    }"
   ]
  },
  {
   "cell_type": "code",
   "execution_count": 22,
   "id": "8b5df68a-ffb3-41ef-b170-85461042bae4",
   "metadata": {},
   "outputs": [],
   "source": [
    "graph_builder.add_node(\n",
    "    node=\"human\", \n",
    "    action=human_node\n",
    ")"
   ]
  },
  {
   "cell_type": "markdown",
   "id": "48d74bae-81d2-405c-a4f8-0401fee5fb7f",
   "metadata": {},
   "source": [
    "Next, define the conditional logic. The `select_next_node` will route to the `human` node if the flag is set. Otherwise, it lets the prebuilt `tools_condition` function choose the next node.\n",
    "\n",
    "Recall that the `tools_condition` function simply checks to see if the `chatbot` has responded with any `tool_calls` in its response message. If so, it routes to the `tools` node. Otherwise, it ends the graph."
   ]
  },
  {
   "cell_type": "code",
   "execution_count": 23,
   "id": "777de7ae-fc3f-45f4-a8d8-07b0648eaa35",
   "metadata": {},
   "outputs": [],
   "source": [
    "from langgraph.prebuilt import tools_condition\n",
    "\n",
    "\n",
    "def select_next_node(state: State):\n",
    "    if state[\"ask_human\"]:\n",
    "        return \"human\"\n",
    "        \n",
    "    # Otherwise, we can route as before\n",
    "    return tools_condition(state)\n",
    "\n",
    "\n",
    "graph_builder.add_conditional_edges(\n",
    "    source=\"chatbot\",\n",
    "    path=select_next_node,\n",
    ")"
   ]
  },
  {
   "cell_type": "markdown",
   "id": "02bd65ad-8000-4be9-be56-08442d3d5bb9",
   "metadata": {},
   "source": [
    "Finally, add the simple directed edges and compile the graph. These edges instruct the graph to **always** flow from node `a` $\\longrightarrow$ `b` whenever `a` finishes executing."
   ]
  },
  {
   "cell_type": "code",
   "execution_count": 24,
   "id": "90ce0e4b-aee2-415e-a575-18c25f310f89",
   "metadata": {},
   "outputs": [],
   "source": [
    "# The rest is the same\n",
    "\n",
    "graph_builder.add_edge(\n",
    "    start_key=\"tools\", \n",
    "    end_key=\"chatbot\"\n",
    ")\n",
    "\n",
    "graph_builder.add_edge(\n",
    "    start_key=\"human\", \n",
    "    end_key=\"chatbot\"\n",
    ")\n",
    "\n",
    "graph_builder.set_entry_point(\n",
    "    key=\"chatbot\"\n",
    ")\n",
    "\n",
    "memory = SqliteSaver.from_conn_string(\":memory:\")\n",
    "graph = graph_builder.compile(\n",
    "    checkpointer=memory,\n",
    "    \n",
    "    # Interrupt before 'human' here instead.\n",
    "    interrupt_before=[\"human\"],\n",
    ")"
   ]
  },
  {
   "cell_type": "markdown",
   "id": "8cdf2b86-3cf9-4246-9b62-bef06ee7094e",
   "metadata": {},
   "source": [
    "Let's visualize the graph that we have built:"
   ]
  },
  {
   "cell_type": "code",
   "execution_count": 25,
   "id": "25c05726-da82-453f-9d14-f7189acbf4a4",
   "metadata": {},
   "outputs": [
    {
     "data": {
      "image/jpeg": "[encoded data removed]",
      "text/plain": [
       "<IPython.core.display.Image object>"
      ]
     },
     "metadata": {},
     "output_type": "display_data"
    }
   ],
   "source": [
    "from IPython.display import Image, display\n",
    "\n",
    "display(\n",
    "    Image(\n",
    "        graph.get_graph().draw_mermaid_png()\n",
    "    )\n",
    ")"
   ]
  },
  {
   "cell_type": "markdown",
   "id": "c129e680-c3b4-490f-bce2-a6340511c061",
   "metadata": {},
   "source": [
    "The chat bot can either request help from a human (`chatbot`$\\dashrightarrow$ `human`), invoke the web search tool (`chatbot` $\\dashrightarrow$`tools`), or directly respond (`chatbot`$\\dashrightarrow$`__end__`). After the tool has been used or request has been made, the graph will transition back to the `chatbot` node to continue operations.\n",
    "\n",
    "Let's see this graph in action. We will request for expert assistance to illustrate our graph."
   ]
  },
  {
   "cell_type": "code",
   "execution_count": 26,
   "id": "aef46357-e956-4da5-90d8-4c6cd708209b",
   "metadata": {},
   "outputs": [
    {
     "name": "stdout",
     "output_type": "stream",
     "text": [
      "================================\u001b[1m Human Message \u001b[0m=================================\n",
      "\n",
      "I need some expert guidance for building this AI agent. Could you request assistance for me?\n",
      "==================================\u001b[1m Ai Message \u001b[0m==================================\n",
      "Tool Calls:\n",
      "  RequestAssistance (1cad90f9-3a08-4666-b3fc-bb671a313e7d)\n",
      " Call ID: 1cad90f9-3a08-4666-b3fc-bb671a313e7d\n",
      "  Args:\n",
      "    request: I need some expert guidance for building this AI agent.\n"
     ]
    }
   ],
   "source": [
    "user_input = (\n",
    "    \"I need some expert guidance for \"\n",
    "    \"building this AI agent. Could you \"\n",
    "    \"request assistance for me?\"\n",
    ")\n",
    "config = {\n",
    "    \"configurable\": {\"thread_id\": \"1\"}\n",
    "}\n",
    "\n",
    "# The config is the **second positional argument** to stream() or invoke()!\n",
    "events = graph.stream(\n",
    "    input={\n",
    "        \"messages\": [\n",
    "            (\"user\", user_input)\n",
    "        ]\n",
    "    }, \n",
    "    config=config, \n",
    "    stream_mode=\"values\"\n",
    ")\n",
    "\n",
    "for event in events:\n",
    "    if \"messages\" in event:\n",
    "        event[\"messages\"][-1].pretty_print()"
   ]
  },
  {
   "cell_type": "markdown",
   "id": "66692e21-5aa0-4725-ab96-90ccafad5811",
   "metadata": {},
   "source": [
    "**Notice:** the LLM has invoked the `RequestAssistance` tool we provided it, and the interrupt has been set. Let's inspect the graph state to confirm."
   ]
  },
  {
   "cell_type": "code",
   "execution_count": 28,
   "id": "da4d3e37-2882-42a0-852e-7ef2bd95aeaa",
   "metadata": {},
   "outputs": [
    {
     "data": {
      "text/plain": [
       "('human',)"
      ]
     },
     "execution_count": 28,
     "metadata": {},
     "output_type": "execute_result"
    }
   ],
   "source": [
    "snapshot = graph.get_state(config)\n",
    "snapshot.next"
   ]
  },
  {
   "cell_type": "markdown",
   "id": "4aba991e-51d0-4702-918a-3e0b8dc458b1",
   "metadata": {},
   "source": [
    "The graph state is indeed **interrupted** before the \n",
    "`'human'` node. We can act as the \"expert\" in this \n",
    "scenario and manually update the state by adding a \n",
    "new `ToolMessage` with our input.\n",
    "\n",
    "Next, respond to the chatbot's request by:\n",
    "1. Creating a `ToolMessage` with our response.\n",
    "   This will be passed back to the `chatbot`.\n",
    "2. Calling `update_state` to manually update the graph state."
   ]
  },
  {
   "cell_type": "code",
   "execution_count": 31,
   "id": "9a33de23-5f5c-4149-a2c7-fc8a69358e06",
   "metadata": {},
   "outputs": [
    {
     "data": {
      "text/plain": [
       "{'configurable': {'thread_id': '1',\n",
       "  'thread_ts': '1ef33890-ff09-65da-8002-af38d6e5859a'}}"
      ]
     },
     "execution_count": 31,
     "metadata": {},
     "output_type": "execute_result"
    }
   ],
   "source": [
    "ai_message = snapshot.values[\"messages\"][-1]\n",
    "human_response = (\n",
    "    \"We, the experts are here to help! \"\n",
    "    \"We'd recommend you check out LangGraph \"\n",
    "    \"to build your agent. It's much more \"\n",
    "    \"reliable and extensible than simple \"\n",
    "    \"autonomous agents.\"\n",
    ")\n",
    "\n",
    "tool_message = create_response(\n",
    "    response=human_response, \n",
    "    ai_message=ai_message\n",
    ")\n",
    "\n",
    "graph.update_state(\n",
    "    config=config, \n",
    "    values={\n",
    "        \"messages\": [tool_message]\n",
    "    }\n",
    ")"
   ]
  },
  {
   "cell_type": "markdown",
   "id": "bb7326a4-9e01-437e-9b9a-0fe83577d427",
   "metadata": {},
   "source": [
    "You can inspect the state to confirm our response was added."
   ]
  },
  {
   "cell_type": "code",
   "execution_count": 34,
   "id": "67c30834-c7a6-4ce2-9aa1-a32aeff11961",
   "metadata": {},
   "outputs": [
    {
     "name": "stdout",
     "output_type": "stream",
     "text": [
      "[HumanMessage(content='I need some expert guidance for building this AI agent. Could you request assistance for me?', id='2baedb85-82f9-4b44-b8e6-b298d97bb70d'),\n",
      " AIMessage(content='', additional_kwargs={'function_call': {'name': 'RequestAssistance', 'arguments': '{\"request\": \"I need some expert guidance for building this AI agent.\"}'}}, response_metadata={'prompt_feedback': {'block_reason': 0, 'safety_ratings': []}, 'finish_reason': 'STOP', 'safety_ratings': [{'category': 'HARM_CATEGORY_HATE_SPEECH', 'probability': 'NEGLIGIBLE', 'blocked': False}, {'category': 'HARM_CATEGORY_SEXUALLY_EXPLICIT', 'probability': 'NEGLIGIBLE', 'blocked': False}, {'category': 'HARM_CATEGORY_DANGEROUS_CONTENT', 'probability': 'NEGLIGIBLE', 'blocked': False}, {'category': 'HARM_CATEGORY_HARASSMENT', 'probability': 'NEGLIGIBLE', 'blocked': False}]}, id='run-419d983e-b78e-49ac-8034-5a5b7e12ca9b-0', tool_calls=[{'name': 'RequestAssistance', 'args': {'request': 'I need some expert guidance for building this AI agent.'}, 'id': '1cad90f9-3a08-4666-b3fc-bb671a313e7d'}], usage_metadata={'input_tokens': 179, 'output_tokens': 24, 'total_tokens': 203}),\n",
      " ToolMessage(content=\"We, the experts are here to help! We'd recommend you check out LangGraph to build your agent. It's much more reliable and extensible than simple autonomous agents.\", id='0ae2f03c-eccc-4b2e-9467-8acb932bfb45', tool_call_id='1cad90f9-3a08-4666-b3fc-bb671a313e7d')]\n"
     ]
    }
   ],
   "source": [
    "pprint(\n",
    "    graph.get_state(config).values[\"messages\"]\n",
    ")"
   ]
  },
  {
   "cell_type": "markdown",
   "id": "77d5a443-f6e0-406e-8c57-1eb09741a122",
   "metadata": {},
   "source": [
    "Next, **resume** the graph by invoking it with `None` as the inputs."
   ]
  },
  {
   "cell_type": "code",
   "execution_count": 35,
   "id": "79c168e6-514b-4e91-a267-faa1e6ba1aab",
   "metadata": {},
   "outputs": [
    {
     "name": "stdout",
     "output_type": "stream",
     "text": [
      "=================================\u001b[1m Tool Message \u001b[0m=================================\n",
      "\n",
      "We, the experts are here to help! We'd recommend you check out LangGraph to build your agent. It's much more reliable and extensible than simple autonomous agents.\n",
      "==================================\u001b[1m Ai Message \u001b[0m==================================\n",
      "\n",
      "Okay, I've requested assistance from an expert. They recommend you check out LangGraph to build your AI agent. It's apparently more reliable and extensible than simple autonomous agents.\n"
     ]
    }
   ],
   "source": [
    "events = graph.stream(\n",
    "    input=None, \n",
    "    config=config, \n",
    "    stream_mode=\"values\"\n",
    ")\n",
    "\n",
    "for event in events:\n",
    "    if \"messages\" in event:\n",
    "        event[\"messages\"][-1].pretty_print()"
   ]
  },
  {
   "cell_type": "markdown",
   "id": "b493642c-875a-42e2-b3eb-3b86b837677b",
   "metadata": {},
   "source": [
    "**Notice** that the chat bot has incorporated the updated state in its final response. Since **everything** was checkpointed, the \"expert\" human in the loop could perform the update at any time without impacting the graph's execution.\n",
    "\n",
    "**Congratulations!** We've now added an additional node to your assistant graph to let the chat bot decide for itself whether or not it needs to interrupt execution. We did so by updating the graph `State` with a new `ask_human` field and modifying the interruption logic when compiling the graph. This lets us dynamically include a human in the loop while maintaining full **memory** every time we execute the graph."
   ]
  },
  {
   "cell_type": "markdown",
   "id": "1f717986-e125-4090-9f34-6641f88c03dc",
   "metadata": {},
   "source": [
    "## Part 7: Time Travel\n",
    "\n",
    "In a typical chatbot workflow, the user interacts with the bot one or more times to accomplish a task. In the previous sections, we saw how to add memory and a human-in-the-loop to be able to checkpoint our graph state and manually override the state to control future responses.\n",
    "\n",
    "But what if we want to let our user start from a previous response and \"branch off\" to explore a separate outcome? Or what if we want users to be able to \"rewind\" our assistant's work to fix some mistakes or try a different strategy (common in applications like autonomous software engineers)?\n",
    "\n",
    "We can create both of these experiences and more using LangGraph's built-in \"time travel\" functionality. \n",
    "\n",
    "In this section, we will \"rewind\" our graph by fetching a checkpoint using the graph's `get_state_history` method. We can then resume execution at this previous point in time.\n",
    "\n",
    "First, recall our chatbot graph. We don't need to make **any** changes from before:"
   ]
  },
  {
   "cell_type": "code",
   "execution_count": 44,
   "id": "3a9965c3-3611-4fee-938c-89e0cbb3603f",
   "metadata": {},
   "outputs": [],
   "source": [
    "from typing import Annotated, Literal\n",
    "\n",
    "from langchain_google_genai import ChatGoogleGenerativeAI\n",
    "from langchain_community.tools.tavily_search import TavilySearchResults\n",
    "from langchain_core.messages import AIMessage, BaseMessage, ToolMessage\n",
    "from langchain_core.pydantic_v1 import BaseModel\n",
    "from typing_extensions import TypedDict\n",
    "\n",
    "from langgraph.checkpoint.sqlite import SqliteSaver\n",
    "from langgraph.graph import StateGraph\n",
    "from langgraph.graph.message import add_messages\n",
    "from langgraph.prebuilt import ToolNode, tools_condition\n",
    "\n",
    "\n",
    "class State(TypedDict):\n",
    "    messages: Annotated[list, add_messages]\n",
    "    ask_human: bool # This flag is new\n",
    "\n",
    "\n",
    "class RequestAssistance(BaseModel):\n",
    "    \"\"\"Escalate the conversation to an expert. \n",
    "    Use this if you are unable to assist directly \n",
    "    or if the user requires support beyond your permissions.\n",
    "\n",
    "    To use this function, relay the user's 'request' \n",
    "    so the expert can provide the right guidance.\n",
    "    \"\"\"\n",
    "    \n",
    "    request: str\n",
    "\n",
    "\n",
    "web_search_tool = TavilySearchResults(max_results=2)\n",
    "llm = ChatGoogleGenerativeAI(model=\"gemini-1.5-flash\")\n",
    "\n",
    "# We can bind the llm to a tool definition, \n",
    "# a pydantic model, or a json schema\n",
    "llm_with_tools = llm.bind_tools([\n",
    "    web_search_tool, \n",
    "    RequestAssistance\n",
    "])\n",
    "\n",
    "\n",
    "def chatbot(state: State):\n",
    "    response = llm_with_tools.invoke(\n",
    "        state[\"messages\"]\n",
    "    )\n",
    "    \n",
    "    ask_human = False\n",
    "    if (\n",
    "        response.tool_calls and \n",
    "        response.tool_calls[0][\"name\"] == RequestAssistance.__name__\n",
    "    ):\n",
    "        ask_human = True\n",
    "        \n",
    "    return {\n",
    "        \"messages\": [response], \n",
    "        \"ask_human\": ask_human\n",
    "    }\n",
    "\n",
    "\n",
    "graph_builder = StateGraph(state_schema=State)\n",
    "\n",
    "graph_builder.add_node(\n",
    "    node=\"chatbot\", \n",
    "    action=chatbot\n",
    ")\n",
    "\n",
    "graph_builder.add_node(\n",
    "    node=\"tools\", \n",
    "    action=ToolNode(\n",
    "        tools=[web_search_tool]\n",
    "    )\n",
    ")\n",
    "\n",
    "\n",
    "def create_response(\n",
    "    response: str, \n",
    "    ai_message: AIMessage\n",
    "):\n",
    "    \"\"\"\n",
    "    Creates a `ToolMessage` response with custom content.\n",
    "\n",
    "    Parameters:\n",
    "        response (str): Content of the tool message.\n",
    "        ai_message (AIMessage): AI message that made the tool call.\n",
    "        \n",
    "    Returns:\n",
    "        response (ToolMessage): Tool message with given `response`.\n",
    "    \"\"\"\n",
    "    return ToolMessage(\n",
    "        content=response,\n",
    "        tool_call_id=ai_message.tool_calls[0][\"id\"],\n",
    "    )\n",
    "\n",
    "\n",
    "def human_node(state: State):\n",
    "    new_messages = []\n",
    "    \n",
    "    if not isinstance(state[\"messages\"][-1], ToolMessage):\n",
    "        # Typically, the user will have updated the state \n",
    "        # during the interrupt.\n",
    "        # If they choose not to, we will include a \n",
    "        # placeholder `ToolMessage` to let the LLM continue.\n",
    "        new_messages.append(\n",
    "            create_response(\n",
    "                response=\"No response from human.\", \n",
    "                ai_message=state[\"messages\"][-1]\n",
    "            )\n",
    "        )\n",
    "        \n",
    "    return {\n",
    "        # Append the new messages\n",
    "        \"messages\": new_messages,\n",
    "        \n",
    "        # Unset the flag\n",
    "        \"ask_human\": False,\n",
    "    }\n",
    "    \n",
    "\n",
    "graph_builder.add_node(\n",
    "    node=\"human\", \n",
    "    action=human_node\n",
    ")\n",
    "\n",
    "def select_next_node(\n",
    "    state: State\n",
    ") -> Literal[\"human\", \"tools\", \"__end__\"]:\n",
    "    if state[\"ask_human\"]:\n",
    "        return \"human\"\n",
    "        \n",
    "    # Otherwise, we can route as before\n",
    "    return tools_condition(state)\n",
    "\n",
    "\n",
    "graph_builder.add_conditional_edges(\n",
    "    source=\"chatbot\",\n",
    "    path=select_next_node,\n",
    ")\n",
    "\n",
    "# The rest is the same\n",
    "graph_builder.add_edge(\n",
    "    start_key=\"tools\", \n",
    "    end_key=\"chatbot\"\n",
    ")\n",
    "\n",
    "graph_builder.add_edge(\n",
    "    start_key=\"human\", \n",
    "    end_key=\"chatbot\"\n",
    ")\n",
    "\n",
    "graph_builder.set_entry_point(\n",
    "    key=\"chatbot\"\n",
    ")\n",
    "\n",
    "memory = SqliteSaver.from_conn_string(\":memory:\")\n",
    "graph = graph_builder.compile(\n",
    "    checkpointer=memory,\n",
    "    \n",
    "    # Interrupt before 'human' here instead.\n",
    "    interrupt_before=[\"human\"],\n",
    ")"
   ]
  },
  {
   "cell_type": "code",
   "execution_count": 45,
   "id": "6310a4f8-933a-4251-8ae3-90602db6eacc",
   "metadata": {},
   "outputs": [
    {
     "data": {
      "image/jpeg": "[encoded data removed]",
      "text/plain": [
       "<IPython.core.display.Image object>"
      ]
     },
     "metadata": {},
     "output_type": "display_data"
    }
   ],
   "source": [
    "from IPython.display import Image, display\n",
    "\n",
    "display(\n",
    "    Image(\n",
    "        graph.get_graph().draw_mermaid_png()\n",
    "    )\n",
    ")"
   ]
  },
  {
   "cell_type": "markdown",
   "id": "f1229e4f-4993-4450-b4e0-1000b73cbf07",
   "metadata": {},
   "source": [
    "Let's have our graph take a couple steps. Every step will be checkpointed in its state history:"
   ]
  },
  {
   "cell_type": "code",
   "execution_count": 46,
   "id": "be298aad-5871-4963-a4ee-de22e8d6ac97",
   "metadata": {},
   "outputs": [
    {
     "name": "stdout",
     "output_type": "stream",
     "text": [
      "================================\u001b[1m Human Message \u001b[0m=================================\n",
      "\n",
      "What are some popular tourist attractions in Malaysia?\n",
      "==================================\u001b[1m Ai Message \u001b[0m==================================\n",
      "Tool Calls:\n",
      "  tavily_search_results_json (815e65f1-7560-4562-8bd4-5d8c9649771b)\n",
      " Call ID: 815e65f1-7560-4562-8bd4-5d8c9649771b\n",
      "  Args:\n",
      "    query: popular tourist attractions in Malaysia\n",
      "=================================\u001b[1m Tool Message \u001b[0m=================================\n",
      "Name: tavily_search_results_json\n",
      "\n",
      "[{\"url\": \"https://www.tripadvisor.in/Attractions-g293951-Activities-Malaysia.html\", \"content\": \"3. Royal Selangor Visitor Centre. 3,264. Visitor Centres. Royal Selangor Visitor Centre is the go-to place in Kuala Lumpur, Malaysia to experience pewter, both as a beautiful piece to be admired and as a craft. Wander through intriguing museum exhibits and\\u2026. See ways to experience (280) 2023. 4.\"}, {\"url\": \"https://www.planetware.com/malaysia/top-rated-tourist-attractions-in-malaysia-mal-1-3.htm\", \"content\": \"12. Cameron Highlands, Pahang. 13. Ipoh Caverns. Map of Tourist Attractions in Malaysia. 1. Petronas Twin Towers, Kuala Lumpur. Petronas Twin Towers in Kuala Lumpur. The tallest twin towers in the world, the Petronas reach an impressive 452 meters high up into the clouds.\"}]\n",
      "==================================\u001b[1m Ai Message \u001b[0m==================================\n",
      "\n",
      "Some popular tourist attractions in Malaysia include the Petronas Twin Towers in Kuala Lumpur, the Royal Selangor Visitor Centre, and the Cameron Highlands in Pahang.\n"
     ]
    }
   ],
   "source": [
    "config = {\n",
    "    \"configurable\": {\"thread_id\": \"1\"}\n",
    "}\n",
    "\n",
    "events = graph.stream(\n",
    "    input={\n",
    "        \"messages\": [\n",
    "            (\"user\", \n",
    "             \"What are some popular tourist \"\n",
    "             \"attractions in Malaysia?\")\n",
    "        ]\n",
    "    },\n",
    "    config=config,\n",
    "    stream_mode=\"values\",\n",
    ")\n",
    "\n",
    "for event in events:\n",
    "    if \"messages\" in event:\n",
    "        event[\"messages\"][-1].pretty_print()"
   ]
  },
  {
   "cell_type": "code",
   "execution_count": 47,
   "id": "4d845e2b-b95b-486c-9223-2c288c10688f",
   "metadata": {},
   "outputs": [
    {
     "name": "stdout",
     "output_type": "stream",
     "text": [
      "================================\u001b[1m Human Message \u001b[0m=================================\n",
      "\n",
      "I am interested to know more about Cameron Highlands.\n",
      "==================================\u001b[1m Ai Message \u001b[0m==================================\n",
      "Tool Calls:\n",
      "  tavily_search_results_json (c45a6fc0-28cb-425c-adf4-0132615bfe04)\n",
      " Call ID: c45a6fc0-28cb-425c-adf4-0132615bfe04\n",
      "  Args:\n",
      "    query: Cameron Highlands\n",
      "=================================\u001b[1m Tool Message \u001b[0m=================================\n",
      "Name: tavily_search_results_json\n",
      "\n",
      "[{\"url\": \"https://diveintomalaysia.com/things-to-do-in-cameron-highlands/\", \"content\": \"Discover the lush landscapes, tea plantations, hiking trails and colonial nostalgia of Cameron Highlands, a cool hill station in Malaysia. Find out the best places to visit, activities to enjoy, and tips for your trip in this comprehensive guide.\"}, {\"url\": \"https://www.lonelyplanet.com/articles/how-to-plan-a-trip-to-malaysias-cameron-highlands\", \"content\": \"Learn about the history, attractions, hiking trails, and culture of Malaysia's Cameron Highlands, a hilly region with mild climate and scenic views. Find tips on where to stay, what to eat, and how to avoid tourism pitfalls.\"}]\n",
      "==================================\u001b[1m Ai Message \u001b[0m==================================\n",
      "\n",
      "Cameron Highlands is a popular hill station in Malaysia known for its lush landscapes, tea plantations, hiking trails, and colonial nostalgia. It's a great place to escape the heat and enjoy the cooler climate.\n"
     ]
    }
   ],
   "source": [
    "events = graph.stream(\n",
    "    input={\n",
    "        \"messages\": [\n",
    "            (\"user\", \n",
    "             \"I am interested to know more \"\n",
    "             \"about Cameron Highlands.\")\n",
    "        ]\n",
    "    },\n",
    "    config=config,\n",
    "    stream_mode=\"values\",\n",
    ")\n",
    "\n",
    "for event in events:\n",
    "    if \"messages\" in event:\n",
    "        event[\"messages\"][-1].pretty_print()"
   ]
  },
  {
   "cell_type": "markdown",
   "id": "76ba0813-c72b-490d-9480-8564d29c4279",
   "metadata": {},
   "source": [
    "Now that we've had the agent take a couple steps, we can `replay` the full state history to see everything that occurred."
   ]
  },
  {
   "cell_type": "code",
   "execution_count": 48,
   "id": "1c020645-a9aa-4ca3-b62d-2c76fb67be96",
   "metadata": {},
   "outputs": [
    {
     "name": "stdout",
     "output_type": "stream",
     "text": [
      "Num Messages: 8\n",
      "Next: ()\n",
      "--------------------------------------------------------------------------------\n",
      "Num Messages: 7\n",
      "Next: ('chatbot',)\n",
      "--------------------------------------------------------------------------------\n",
      "Num Messages: 6\n",
      "Next: ('tools',)\n",
      "--------------------------------------------------------------------------------\n",
      "Num Messages: 5\n",
      "Next: ('chatbot',)\n",
      "--------------------------------------------------------------------------------\n",
      "Num Messages: 4\n",
      "Next: ('__start__',)\n",
      "--------------------------------------------------------------------------------\n",
      "Num Messages: 4\n",
      "Next: ()\n",
      "--------------------------------------------------------------------------------\n",
      "Num Messages: 3\n",
      "Next: ('chatbot',)\n",
      "--------------------------------------------------------------------------------\n",
      "Num Messages: 2\n",
      "Next: ('tools',)\n",
      "--------------------------------------------------------------------------------\n",
      "Num Messages: 1\n",
      "Next: ('chatbot',)\n",
      "--------------------------------------------------------------------------------\n",
      "Num Messages: 0\n",
      "Next: ('__start__',)\n",
      "--------------------------------------------------------------------------------\n"
     ]
    }
   ],
   "source": [
    "to_replay = None\n",
    "\n",
    "for state in graph.get_state_history(config):\n",
    "    print(\n",
    "        \"Num Messages:\", \n",
    "        len(state.values[\"messages\"])        \n",
    "    )\n",
    "    print(\"Next:\", state.next)\n",
    "    print(\"-\" * 80)\n",
    "    \n",
    "    if len(state.values[\"messages\"]) == 6:\n",
    "        # We are somewhat arbitrarily selecting a \n",
    "        # specific state based on the number of chat \n",
    "        # messages in the state.\n",
    "        to_replay = state"
   ]
  },
  {
   "cell_type": "markdown",
   "id": "fddff20c-e217-49c7-9628-c7e186cddda8",
   "metadata": {},
   "source": [
    "**Notice** that checkpoints are saved for every step of the graph. This __spans invocations__ so you can rewind across a full thread's history. We've picked out `to_replay` as a state to resume from. This is the state after the `chatbot` node in the second graph invocation above.\n",
    "\n",
    "Resuming from this point should call the **`tools`** node next."
   ]
  },
  {
   "cell_type": "code",
   "execution_count": 49,
   "id": "f7190719-10a2-4f1d-bca4-770bad9c47e8",
   "metadata": {},
   "outputs": [
    {
     "name": "stdout",
     "output_type": "stream",
     "text": [
      "('tools',)\n",
      "{'configurable': {'thread_id': '1', 'thread_ts': '1ef33956-2fd2-61d8-8006-36762b3022ab'}}\n"
     ]
    }
   ],
   "source": [
    "print(to_replay.next)\n",
    "print(to_replay.config)"
   ]
  },
  {
   "cell_type": "markdown",
   "id": "0d059cd1-f7b2-491d-a3b8-f92964d4235b",
   "metadata": {},
   "source": [
    "**Notice** that the checkpoint's config (`to_replay.config`) contains a `thread_ts` **timestamp**. Providing this `thread_ts` value tells LangGraph's checkpointer to **load** the state from that moment in time. Let's try it below:"
   ]
  },
  {
   "cell_type": "code",
   "execution_count": 50,
   "id": "66af293d-15de-4a81-8b08-b49d175ea8ca",
   "metadata": {},
   "outputs": [
    {
     "name": "stdout",
     "output_type": "stream",
     "text": [
      "=================================\u001b[1m Tool Message \u001b[0m=================================\n",
      "Name: tavily_search_results_json\n",
      "\n",
      "[{\"url\": \"https://diveintomalaysia.com/things-to-do-in-cameron-highlands/\", \"content\": \"Discover the lush landscapes, tea plantations, hiking trails and colonial nostalgia of Cameron Highlands, a cool hill station in Malaysia. Find out the best places to visit, activities to enjoy, and tips for your trip in this comprehensive guide.\"}, {\"url\": \"https://www.lonelyplanet.com/articles/how-to-plan-a-trip-to-malaysias-cameron-highlands\", \"content\": \"Learn about the history, attractions, hiking trails, and culture of Malaysia's Cameron Highlands, a hilly region with mild climate and scenic views. Find tips on where to stay, what to eat, and how to avoid tourism pitfalls.\"}]\n",
      "==================================\u001b[1m Ai Message \u001b[0m==================================\n",
      "\n",
      "Cameron Highlands is a popular hill station in Malaysia known for its lush landscapes, tea plantations, hiking trails, and colonial nostalgia. It offers a cool climate and scenic views, making it a popular destination for tourists.\n"
     ]
    }
   ],
   "source": [
    "events = graph.stream(\n",
    "    input=None, \n",
    "    \n",
    "    # The `thread_ts` in the `to_replay.config` corresponds \n",
    "    # to a state we've persisted to our checkpointer.\n",
    "    config=to_replay.config, \n",
    "    \n",
    "    stream_mode=\"values\"\n",
    ")\n",
    "\n",
    "for event in events:\n",
    "    if \"messages\" in event:\n",
    "        event[\"messages\"][-1].pretty_print()"
   ]
  },
  {
   "cell_type": "markdown",
   "id": "efc765a6-e424-4820-809d-62ed66e671da",
   "metadata": {},
   "source": [
    "Notice that the graph resumed execution from the **`tools`** node. The first value printed above is the response from the web search tool.\n",
    "\n",
    "**Congratulations!** We've now used time-travel checkpoint traversal in LangGraph. Being able to rewind and explore alternative paths opens up a world of possibilities for debugging, experimentation, and interactive applications."
   ]
  },
  {
   "cell_type": "markdown",
   "id": "ddbdb2d2-5e4b-4cab-80ae-ea21cca1d955",
   "metadata": {},
   "source": [
    "## Conclusion\n",
    "\n",
    "Congrats! We've built a chatbot in LangGraph that supports tool calling, persistent memory, human-in-the-loop interactivity, and even time-travel!\n",
    "\n",
    "You can learn more about LangGraph by going through some more guided examples:\n",
    "[LangGraph Tutorials](https://langchain-ai.github.io/langgraph/tutorials/)\n"
   ]
  },
  {
   "cell_type": "code",
   "execution_count": null,
   "id": "77d91c84-39a4-4a58-812b-fd84e937fad7",
   "metadata": {},
   "outputs": [],
   "source": []
  }
 ],
 "metadata": {
  "kernelspec": {
   "display_name": "Python 3 (ipykernel)",
   "language": "python",
   "name": "python3"
  },
  "language_info": {
   "codemirror_mode": {
    "name": "ipython",
    "version": 3
   },
   "file_extension": ".py",
   "mimetype": "text/x-python",
   "name": "python",
   "nbconvert_exporter": "python",
   "pygments_lexer": "ipython3",
   "version": "3.11.9"
  }
 },
 "nbformat": 4,
 "nbformat_minor": 5
}
